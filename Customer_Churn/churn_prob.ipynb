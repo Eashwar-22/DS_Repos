{
  "nbformat": 4,
  "nbformat_minor": 0,
  "metadata": {
    "colab": {
      "name": "churn_prob.ipynb",
      "provenance": [],
      "collapsed_sections": []
    },
    "kernelspec": {
      "name": "python3",
      "display_name": "Python 3"
    },
    "language_info": {
      "name": "python"
    }
  },
  "cells": [
    {
      "cell_type": "code",
      "metadata": {
        "id": "IyEfSmf5Tk7M"
      },
      "source": [
        "import pandas as pd\n",
        "import numpy as np\n",
        "import tensorflow as tf\n",
        "from tensorflow import keras\n",
        "import seaborn as sns\n",
        "import matplotlib.pyplot as plt\n",
        "%matplotlib inline\n",
        "\n",
        "from sklearn.preprocessing import MinMaxScaler\n",
        "from sklearn.model_selection import train_test_split\n",
        "from sklearn.metrics import confusion_matrix,precision_score,recall_score,classification_report\n",
        "from imblearn.over_sampling import SMOTE\n",
        "\n",
        "\n",
        "import sys\n",
        "import warnings\n",
        "\n",
        "if not sys.warnoptions:\n",
        "    warnings.simplefilter(\"ignore\")"
      ],
      "execution_count": 1,
      "outputs": []
    },
    {
      "cell_type": "code",
      "metadata": {
        "colab": {
          "base_uri": "https://localhost:8080/",
          "height": 600
        },
        "id": "JTFqhWZkUHer",
        "outputId": "3a3f5b91-cb12-43c7-a0b6-0fc1dd459651"
      },
      "source": [
        "df = pd.read_csv(\"/content/sample_data/churn_data.csv\")\n",
        "df"
      ],
      "execution_count": 2,
      "outputs": [
        {
          "output_type": "execute_result",
          "data": {
            "text/html": [
              "<div>\n",
              "<style scoped>\n",
              "    .dataframe tbody tr th:only-of-type {\n",
              "        vertical-align: middle;\n",
              "    }\n",
              "\n",
              "    .dataframe tbody tr th {\n",
              "        vertical-align: top;\n",
              "    }\n",
              "\n",
              "    .dataframe thead th {\n",
              "        text-align: right;\n",
              "    }\n",
              "</style>\n",
              "<table border=\"1\" class=\"dataframe\">\n",
              "  <thead>\n",
              "    <tr style=\"text-align: right;\">\n",
              "      <th></th>\n",
              "      <th>customerID</th>\n",
              "      <th>gender</th>\n",
              "      <th>SeniorCitizen</th>\n",
              "      <th>Partner</th>\n",
              "      <th>Dependents</th>\n",
              "      <th>tenure</th>\n",
              "      <th>PhoneService</th>\n",
              "      <th>MultipleLines</th>\n",
              "      <th>InternetService</th>\n",
              "      <th>OnlineSecurity</th>\n",
              "      <th>OnlineBackup</th>\n",
              "      <th>DeviceProtection</th>\n",
              "      <th>TechSupport</th>\n",
              "      <th>StreamingTV</th>\n",
              "      <th>StreamingMovies</th>\n",
              "      <th>Contract</th>\n",
              "      <th>PaperlessBilling</th>\n",
              "      <th>PaymentMethod</th>\n",
              "      <th>MonthlyCharges</th>\n",
              "      <th>TotalCharges</th>\n",
              "      <th>Churn</th>\n",
              "    </tr>\n",
              "  </thead>\n",
              "  <tbody>\n",
              "    <tr>\n",
              "      <th>0</th>\n",
              "      <td>7590-VHVEG</td>\n",
              "      <td>Female</td>\n",
              "      <td>0</td>\n",
              "      <td>Yes</td>\n",
              "      <td>No</td>\n",
              "      <td>1</td>\n",
              "      <td>No</td>\n",
              "      <td>No phone service</td>\n",
              "      <td>DSL</td>\n",
              "      <td>No</td>\n",
              "      <td>Yes</td>\n",
              "      <td>No</td>\n",
              "      <td>No</td>\n",
              "      <td>No</td>\n",
              "      <td>No</td>\n",
              "      <td>Month-to-month</td>\n",
              "      <td>Yes</td>\n",
              "      <td>Electronic check</td>\n",
              "      <td>29.85</td>\n",
              "      <td>29.85</td>\n",
              "      <td>No</td>\n",
              "    </tr>\n",
              "    <tr>\n",
              "      <th>1</th>\n",
              "      <td>5575-GNVDE</td>\n",
              "      <td>Male</td>\n",
              "      <td>0</td>\n",
              "      <td>No</td>\n",
              "      <td>No</td>\n",
              "      <td>34</td>\n",
              "      <td>Yes</td>\n",
              "      <td>No</td>\n",
              "      <td>DSL</td>\n",
              "      <td>Yes</td>\n",
              "      <td>No</td>\n",
              "      <td>Yes</td>\n",
              "      <td>No</td>\n",
              "      <td>No</td>\n",
              "      <td>No</td>\n",
              "      <td>One year</td>\n",
              "      <td>No</td>\n",
              "      <td>Mailed check</td>\n",
              "      <td>56.95</td>\n",
              "      <td>1889.5</td>\n",
              "      <td>No</td>\n",
              "    </tr>\n",
              "    <tr>\n",
              "      <th>2</th>\n",
              "      <td>3668-QPYBK</td>\n",
              "      <td>Male</td>\n",
              "      <td>0</td>\n",
              "      <td>No</td>\n",
              "      <td>No</td>\n",
              "      <td>2</td>\n",
              "      <td>Yes</td>\n",
              "      <td>No</td>\n",
              "      <td>DSL</td>\n",
              "      <td>Yes</td>\n",
              "      <td>Yes</td>\n",
              "      <td>No</td>\n",
              "      <td>No</td>\n",
              "      <td>No</td>\n",
              "      <td>No</td>\n",
              "      <td>Month-to-month</td>\n",
              "      <td>Yes</td>\n",
              "      <td>Mailed check</td>\n",
              "      <td>53.85</td>\n",
              "      <td>108.15</td>\n",
              "      <td>Yes</td>\n",
              "    </tr>\n",
              "    <tr>\n",
              "      <th>3</th>\n",
              "      <td>7795-CFOCW</td>\n",
              "      <td>Male</td>\n",
              "      <td>0</td>\n",
              "      <td>No</td>\n",
              "      <td>No</td>\n",
              "      <td>45</td>\n",
              "      <td>No</td>\n",
              "      <td>No phone service</td>\n",
              "      <td>DSL</td>\n",
              "      <td>Yes</td>\n",
              "      <td>No</td>\n",
              "      <td>Yes</td>\n",
              "      <td>Yes</td>\n",
              "      <td>No</td>\n",
              "      <td>No</td>\n",
              "      <td>One year</td>\n",
              "      <td>No</td>\n",
              "      <td>Bank transfer (automatic)</td>\n",
              "      <td>42.30</td>\n",
              "      <td>1840.75</td>\n",
              "      <td>No</td>\n",
              "    </tr>\n",
              "    <tr>\n",
              "      <th>4</th>\n",
              "      <td>9237-HQITU</td>\n",
              "      <td>Female</td>\n",
              "      <td>0</td>\n",
              "      <td>No</td>\n",
              "      <td>No</td>\n",
              "      <td>2</td>\n",
              "      <td>Yes</td>\n",
              "      <td>No</td>\n",
              "      <td>Fiber optic</td>\n",
              "      <td>No</td>\n",
              "      <td>No</td>\n",
              "      <td>No</td>\n",
              "      <td>No</td>\n",
              "      <td>No</td>\n",
              "      <td>No</td>\n",
              "      <td>Month-to-month</td>\n",
              "      <td>Yes</td>\n",
              "      <td>Electronic check</td>\n",
              "      <td>70.70</td>\n",
              "      <td>151.65</td>\n",
              "      <td>Yes</td>\n",
              "    </tr>\n",
              "    <tr>\n",
              "      <th>...</th>\n",
              "      <td>...</td>\n",
              "      <td>...</td>\n",
              "      <td>...</td>\n",
              "      <td>...</td>\n",
              "      <td>...</td>\n",
              "      <td>...</td>\n",
              "      <td>...</td>\n",
              "      <td>...</td>\n",
              "      <td>...</td>\n",
              "      <td>...</td>\n",
              "      <td>...</td>\n",
              "      <td>...</td>\n",
              "      <td>...</td>\n",
              "      <td>...</td>\n",
              "      <td>...</td>\n",
              "      <td>...</td>\n",
              "      <td>...</td>\n",
              "      <td>...</td>\n",
              "      <td>...</td>\n",
              "      <td>...</td>\n",
              "      <td>...</td>\n",
              "    </tr>\n",
              "    <tr>\n",
              "      <th>7038</th>\n",
              "      <td>6840-RESVB</td>\n",
              "      <td>Male</td>\n",
              "      <td>0</td>\n",
              "      <td>Yes</td>\n",
              "      <td>Yes</td>\n",
              "      <td>24</td>\n",
              "      <td>Yes</td>\n",
              "      <td>Yes</td>\n",
              "      <td>DSL</td>\n",
              "      <td>Yes</td>\n",
              "      <td>No</td>\n",
              "      <td>Yes</td>\n",
              "      <td>Yes</td>\n",
              "      <td>Yes</td>\n",
              "      <td>Yes</td>\n",
              "      <td>One year</td>\n",
              "      <td>Yes</td>\n",
              "      <td>Mailed check</td>\n",
              "      <td>84.80</td>\n",
              "      <td>1990.5</td>\n",
              "      <td>No</td>\n",
              "    </tr>\n",
              "    <tr>\n",
              "      <th>7039</th>\n",
              "      <td>2234-XADUH</td>\n",
              "      <td>Female</td>\n",
              "      <td>0</td>\n",
              "      <td>Yes</td>\n",
              "      <td>Yes</td>\n",
              "      <td>72</td>\n",
              "      <td>Yes</td>\n",
              "      <td>Yes</td>\n",
              "      <td>Fiber optic</td>\n",
              "      <td>No</td>\n",
              "      <td>Yes</td>\n",
              "      <td>Yes</td>\n",
              "      <td>No</td>\n",
              "      <td>Yes</td>\n",
              "      <td>Yes</td>\n",
              "      <td>One year</td>\n",
              "      <td>Yes</td>\n",
              "      <td>Credit card (automatic)</td>\n",
              "      <td>103.20</td>\n",
              "      <td>7362.9</td>\n",
              "      <td>No</td>\n",
              "    </tr>\n",
              "    <tr>\n",
              "      <th>7040</th>\n",
              "      <td>4801-JZAZL</td>\n",
              "      <td>Female</td>\n",
              "      <td>0</td>\n",
              "      <td>Yes</td>\n",
              "      <td>Yes</td>\n",
              "      <td>11</td>\n",
              "      <td>No</td>\n",
              "      <td>No phone service</td>\n",
              "      <td>DSL</td>\n",
              "      <td>Yes</td>\n",
              "      <td>No</td>\n",
              "      <td>No</td>\n",
              "      <td>No</td>\n",
              "      <td>No</td>\n",
              "      <td>No</td>\n",
              "      <td>Month-to-month</td>\n",
              "      <td>Yes</td>\n",
              "      <td>Electronic check</td>\n",
              "      <td>29.60</td>\n",
              "      <td>346.45</td>\n",
              "      <td>No</td>\n",
              "    </tr>\n",
              "    <tr>\n",
              "      <th>7041</th>\n",
              "      <td>8361-LTMKD</td>\n",
              "      <td>Male</td>\n",
              "      <td>1</td>\n",
              "      <td>Yes</td>\n",
              "      <td>No</td>\n",
              "      <td>4</td>\n",
              "      <td>Yes</td>\n",
              "      <td>Yes</td>\n",
              "      <td>Fiber optic</td>\n",
              "      <td>No</td>\n",
              "      <td>No</td>\n",
              "      <td>No</td>\n",
              "      <td>No</td>\n",
              "      <td>No</td>\n",
              "      <td>No</td>\n",
              "      <td>Month-to-month</td>\n",
              "      <td>Yes</td>\n",
              "      <td>Mailed check</td>\n",
              "      <td>74.40</td>\n",
              "      <td>306.6</td>\n",
              "      <td>Yes</td>\n",
              "    </tr>\n",
              "    <tr>\n",
              "      <th>7042</th>\n",
              "      <td>3186-AJIEK</td>\n",
              "      <td>Male</td>\n",
              "      <td>0</td>\n",
              "      <td>No</td>\n",
              "      <td>No</td>\n",
              "      <td>66</td>\n",
              "      <td>Yes</td>\n",
              "      <td>No</td>\n",
              "      <td>Fiber optic</td>\n",
              "      <td>Yes</td>\n",
              "      <td>No</td>\n",
              "      <td>Yes</td>\n",
              "      <td>Yes</td>\n",
              "      <td>Yes</td>\n",
              "      <td>Yes</td>\n",
              "      <td>Two year</td>\n",
              "      <td>Yes</td>\n",
              "      <td>Bank transfer (automatic)</td>\n",
              "      <td>105.65</td>\n",
              "      <td>6844.5</td>\n",
              "      <td>No</td>\n",
              "    </tr>\n",
              "  </tbody>\n",
              "</table>\n",
              "<p>7043 rows × 21 columns</p>\n",
              "</div>"
            ],
            "text/plain": [
              "      customerID  gender  SeniorCitizen  ... MonthlyCharges TotalCharges  Churn\n",
              "0     7590-VHVEG  Female              0  ...          29.85        29.85     No\n",
              "1     5575-GNVDE    Male              0  ...          56.95       1889.5     No\n",
              "2     3668-QPYBK    Male              0  ...          53.85       108.15    Yes\n",
              "3     7795-CFOCW    Male              0  ...          42.30      1840.75     No\n",
              "4     9237-HQITU  Female              0  ...          70.70       151.65    Yes\n",
              "...          ...     ...            ...  ...            ...          ...    ...\n",
              "7038  6840-RESVB    Male              0  ...          84.80       1990.5     No\n",
              "7039  2234-XADUH  Female              0  ...         103.20       7362.9     No\n",
              "7040  4801-JZAZL  Female              0  ...          29.60       346.45     No\n",
              "7041  8361-LTMKD    Male              1  ...          74.40        306.6    Yes\n",
              "7042  3186-AJIEK    Male              0  ...         105.65       6844.5     No\n",
              "\n",
              "[7043 rows x 21 columns]"
            ]
          },
          "metadata": {},
          "execution_count": 2
        }
      ]
    },
    {
      "cell_type": "code",
      "metadata": {
        "colab": {
          "base_uri": "https://localhost:8080/"
        },
        "id": "KfBM13ilUkEo",
        "outputId": "1e270420-95dc-4dec-8ce7-af7b8bb832d6"
      },
      "source": [
        "df.info()"
      ],
      "execution_count": 3,
      "outputs": [
        {
          "output_type": "stream",
          "name": "stdout",
          "text": [
            "<class 'pandas.core.frame.DataFrame'>\n",
            "RangeIndex: 7043 entries, 0 to 7042\n",
            "Data columns (total 21 columns):\n",
            " #   Column            Non-Null Count  Dtype  \n",
            "---  ------            --------------  -----  \n",
            " 0   customerID        7043 non-null   object \n",
            " 1   gender            7043 non-null   object \n",
            " 2   SeniorCitizen     7043 non-null   int64  \n",
            " 3   Partner           7043 non-null   object \n",
            " 4   Dependents        7043 non-null   object \n",
            " 5   tenure            7043 non-null   int64  \n",
            " 6   PhoneService      7043 non-null   object \n",
            " 7   MultipleLines     7043 non-null   object \n",
            " 8   InternetService   7043 non-null   object \n",
            " 9   OnlineSecurity    7043 non-null   object \n",
            " 10  OnlineBackup      7043 non-null   object \n",
            " 11  DeviceProtection  7043 non-null   object \n",
            " 12  TechSupport       7043 non-null   object \n",
            " 13  StreamingTV       7043 non-null   object \n",
            " 14  StreamingMovies   7043 non-null   object \n",
            " 15  Contract          7043 non-null   object \n",
            " 16  PaperlessBilling  7043 non-null   object \n",
            " 17  PaymentMethod     7043 non-null   object \n",
            " 18  MonthlyCharges    7043 non-null   float64\n",
            " 19  TotalCharges      7043 non-null   object \n",
            " 20  Churn             7043 non-null   object \n",
            "dtypes: float64(1), int64(2), object(18)\n",
            "memory usage: 1.1+ MB\n"
          ]
        }
      ]
    },
    {
      "cell_type": "code",
      "metadata": {
        "colab": {
          "base_uri": "https://localhost:8080/"
        },
        "id": "J6HrBJKUUTxI",
        "outputId": "93aa214f-27fb-4b61-ea43-8ef605322e12"
      },
      "source": [
        "data=df.copy()\n",
        "data.drop('customerID',axis=1,inplace=True)\n",
        "data.TotalCharges = pd.to_numeric(data.TotalCharges,errors='coerce')\n",
        "data=data[data.TotalCharges.notnull()].reset_index(drop=True)\n",
        "data.shape\n"
      ],
      "execution_count": 4,
      "outputs": [
        {
          "output_type": "execute_result",
          "data": {
            "text/plain": [
              "(7032, 20)"
            ]
          },
          "metadata": {},
          "execution_count": 4
        }
      ]
    },
    {
      "cell_type": "code",
      "metadata": {
        "colab": {
          "base_uri": "https://localhost:8080/"
        },
        "id": "9GyprLXwWIp5",
        "outputId": "b8850336-932d-4d7f-b23c-5bfdd2c60e44"
      },
      "source": [
        "data.info()"
      ],
      "execution_count": 5,
      "outputs": [
        {
          "output_type": "stream",
          "name": "stdout",
          "text": [
            "<class 'pandas.core.frame.DataFrame'>\n",
            "RangeIndex: 7032 entries, 0 to 7031\n",
            "Data columns (total 20 columns):\n",
            " #   Column            Non-Null Count  Dtype  \n",
            "---  ------            --------------  -----  \n",
            " 0   gender            7032 non-null   object \n",
            " 1   SeniorCitizen     7032 non-null   int64  \n",
            " 2   Partner           7032 non-null   object \n",
            " 3   Dependents        7032 non-null   object \n",
            " 4   tenure            7032 non-null   int64  \n",
            " 5   PhoneService      7032 non-null   object \n",
            " 6   MultipleLines     7032 non-null   object \n",
            " 7   InternetService   7032 non-null   object \n",
            " 8   OnlineSecurity    7032 non-null   object \n",
            " 9   OnlineBackup      7032 non-null   object \n",
            " 10  DeviceProtection  7032 non-null   object \n",
            " 11  TechSupport       7032 non-null   object \n",
            " 12  StreamingTV       7032 non-null   object \n",
            " 13  StreamingMovies   7032 non-null   object \n",
            " 14  Contract          7032 non-null   object \n",
            " 15  PaperlessBilling  7032 non-null   object \n",
            " 16  PaymentMethod     7032 non-null   object \n",
            " 17  MonthlyCharges    7032 non-null   float64\n",
            " 18  TotalCharges      7032 non-null   float64\n",
            " 19  Churn             7032 non-null   object \n",
            "dtypes: float64(2), int64(2), object(16)\n",
            "memory usage: 1.1+ MB\n"
          ]
        }
      ]
    },
    {
      "cell_type": "code",
      "metadata": {
        "colab": {
          "base_uri": "https://localhost:8080/",
          "height": 279
        },
        "id": "I4AHx4riaACK",
        "outputId": "73dcae24-437a-4dec-b3fa-3d1959e8e5c3"
      },
      "source": [
        "sns.histplot(data=data,\n",
        "             x='tenure',\n",
        "             hue='Churn',\n",
        "             kde=True);"
      ],
      "execution_count": 6,
      "outputs": [
        {
          "output_type": "display_data",
          "data": {
            "image/png": "[encoded data removed]",
            "text/plain": [
              "<Figure size 432x288 with 1 Axes>"
            ]
          },
          "metadata": {
            "needs_background": "light"
          }
        }
      ]
    },
    {
      "cell_type": "code",
      "metadata": {
        "colab": {
          "base_uri": "https://localhost:8080/"
        },
        "id": "OJqmHLMMahyj",
        "outputId": "078ac24b-7459-49fb-9e28-ed7310da50e3"
      },
      "source": [
        "data=data.replace(['No phone service','No internet service'],'No')\n",
        "data=data.replace({'Female':1,'Male':0})\n",
        "for col in data:\n",
        "  if data[col].dtypes=='object':\n",
        "    if col!='InternetService':\n",
        "      data[col]=data[col].replace({'Yes':1,'No':0})\n",
        "    print(col,\" : \",data[col].unique())\n"
      ],
      "execution_count": 7,
      "outputs": [
        {
          "output_type": "stream",
          "name": "stdout",
          "text": [
            "Partner  :  [1 0]\n",
            "Dependents  :  [0 1]\n",
            "PhoneService  :  [0 1]\n",
            "MultipleLines  :  [0 1]\n",
            "InternetService  :  ['DSL' 'Fiber optic' 'No']\n",
            "OnlineSecurity  :  [0 1]\n",
            "OnlineBackup  :  [1 0]\n",
            "DeviceProtection  :  [0 1]\n",
            "TechSupport  :  [0 1]\n",
            "StreamingTV  :  [0 1]\n",
            "StreamingMovies  :  [0 1]\n",
            "Contract  :  ['Month-to-month' 'One year' 'Two year']\n",
            "PaperlessBilling  :  [1 0]\n",
            "PaymentMethod  :  ['Electronic check' 'Mailed check' 'Bank transfer (automatic)'\n",
            " 'Credit card (automatic)']\n",
            "Churn  :  [0 1]\n"
          ]
        }
      ]
    },
    {
      "cell_type": "code",
      "metadata": {
        "id": "mz2bKtRHc8ha"
      },
      "source": [
        "for i in ['InternetService','Contract','PaymentMethod']:\n",
        "  data[i]=pd.get_dummies(data[i],drop_first=True)"
      ],
      "execution_count": 8,
      "outputs": []
    },
    {
      "cell_type": "code",
      "metadata": {
        "colab": {
          "base_uri": "https://localhost:8080/"
        },
        "id": "Crr-BVk0gYD8",
        "outputId": "2aae3ed0-d8c0-492b-ad12-db0315b578b5"
      },
      "source": [
        "for col in data:\n",
        "  print(col,\" : \",data[col].unique())"
      ],
      "execution_count": 9,
      "outputs": [
        {
          "output_type": "stream",
          "name": "stdout",
          "text": [
            "gender  :  [1 0]\n",
            "SeniorCitizen  :  [0 1]\n",
            "Partner  :  [1 0]\n",
            "Dependents  :  [0 1]\n",
            "tenure  :  [ 1 34  2 45  8 22 10 28 62 13 16 58 49 25 69 52 71 21 12 30 47 72 17 27\n",
            "  5 46 11 70 63 43 15 60 18 66  9  3 31 50 64 56  7 42 35 48 29 65 38 68\n",
            " 32 55 37 36 41  6  4 33 67 23 57 61 14 20 53 40 59 24 44 19 54 51 26 39]\n",
            "PhoneService  :  [0 1]\n",
            "MultipleLines  :  [0 1]\n",
            "InternetService  :  [0 1]\n",
            "OnlineSecurity  :  [0 1]\n",
            "OnlineBackup  :  [1 0]\n",
            "DeviceProtection  :  [0 1]\n",
            "TechSupport  :  [0 1]\n",
            "StreamingTV  :  [0 1]\n",
            "StreamingMovies  :  [0 1]\n",
            "Contract  :  [0 1]\n",
            "PaperlessBilling  :  [1 0]\n",
            "PaymentMethod  :  [0 1]\n",
            "MonthlyCharges  :  [29.85 56.95 53.85 ... 63.1  44.2  78.7 ]\n",
            "TotalCharges  :  [  29.85 1889.5   108.15 ...  346.45  306.6  6844.5 ]\n",
            "Churn  :  [0 1]\n"
          ]
        }
      ]
    },
    {
      "cell_type": "code",
      "metadata": {
        "id": "RT5xlGYQg7Rj"
      },
      "source": [
        "scaler=MinMaxScaler()\n",
        "cols_to_scale = ['tenure','MonthlyCharges','TotalCharges']\n",
        "data[cols_to_scale]=scaler.fit_transform(data[cols_to_scale])"
      ],
      "execution_count": 10,
      "outputs": []
    },
    {
      "cell_type": "code",
      "metadata": {
        "colab": {
          "base_uri": "https://localhost:8080/"
        },
        "id": "S1SSTjCyhdgY",
        "outputId": "0afd5885-de10-40dc-e5bf-13ede6e16db1"
      },
      "source": [
        "X = data.drop('Churn',axis=1)\n",
        "y = data['Churn'].copy()\n",
        "X.shape,y.shape"
      ],
      "execution_count": 11,
      "outputs": [
        {
          "output_type": "execute_result",
          "data": {
            "text/plain": [
              "((7032, 19), (7032,))"
            ]
          },
          "metadata": {},
          "execution_count": 11
        }
      ]
    },
    {
      "cell_type": "code",
      "metadata": {
        "colab": {
          "base_uri": "https://localhost:8080/"
        },
        "id": "d0apDwFCiYbP",
        "outputId": "e209ac5c-0852-43ab-fe42-9b69f22691c5"
      },
      "source": [
        "X_train,X_test,y_train,y_test = train_test_split(X,y,test_size=0.2,random_state=5)\n",
        "X_train.shape,y_train.shape,X_test.shape,y_test.shape"
      ],
      "execution_count": 12,
      "outputs": [
        {
          "output_type": "execute_result",
          "data": {
            "text/plain": [
              "((5625, 19), (5625,), (1407, 19), (1407,))"
            ]
          },
          "metadata": {},
          "execution_count": 12
        }
      ]
    },
    {
      "cell_type": "code",
      "metadata": {
        "colab": {
          "base_uri": "https://localhost:8080/",
          "height": 296
        },
        "id": "51jh539OjKKA",
        "outputId": "a7fbe020-d84d-42b5-985f-f7fff68b6c3d"
      },
      "source": [
        "sns.countplot(x=y)"
      ],
      "execution_count": 13,
      "outputs": [
        {
          "output_type": "execute_result",
          "data": {
            "text/plain": [
              "<matplotlib.axes._subplots.AxesSubplot at 0x7ff81b5bec10>"
            ]
          },
          "metadata": {},
          "execution_count": 13
        },
        {
          "output_type": "display_data",
          "data": {
            "image/png": "[encoded data removed]",
            "text/plain": [
              "<Figure size 432x288 with 1 Axes>"
            ]
          },
          "metadata": {
            "needs_background": "light"
          }
        }
      ]
    },
    {
      "cell_type": "code",
      "metadata": {
        "colab": {
          "base_uri": "https://localhost:8080/",
          "height": 296
        },
        "id": "ySN1xSz3jaRj",
        "outputId": "cf6a3d03-7af6-4916-a2e1-d7287aee7ec5"
      },
      "source": [
        "sns.countplot(x=y_train)"
      ],
      "execution_count": 14,
      "outputs": [
        {
          "output_type": "execute_result",
          "data": {
            "text/plain": [
              "<matplotlib.axes._subplots.AxesSubplot at 0x7ff817cf4290>"
            ]
          },
          "metadata": {},
          "execution_count": 14
        },
        {
          "output_type": "display_data",
          "data": {
            "image/png": "[encoded data removed]",
            "text/plain": [
              "<Figure size 432x288 with 1 Axes>"
            ]
          },
          "metadata": {
            "needs_background": "light"
          }
        }
      ]
    },
    {
      "cell_type": "code",
      "metadata": {
        "colab": {
          "base_uri": "https://localhost:8080/",
          "height": 296
        },
        "id": "GNduJt9Djcx2",
        "outputId": "8f4b27d8-cea7-4f7d-f733-5b0466d46d91"
      },
      "source": [
        "sns.countplot(x=y_test)"
      ],
      "execution_count": 15,
      "outputs": [
        {
          "output_type": "execute_result",
          "data": {
            "text/plain": [
              "<matplotlib.axes._subplots.AxesSubplot at 0x7ff817c5e350>"
            ]
          },
          "metadata": {},
          "execution_count": 15
        },
        {
          "output_type": "display_data",
          "data": {
            "image/png": "[encoded data removed]",
            "text/plain": [
              "<Figure size 432x288 with 1 Axes>"
            ]
          },
          "metadata": {
            "needs_background": "light"
          }
        }
      ]
    },
    {
      "cell_type": "code",
      "metadata": {
        "colab": {
          "base_uri": "https://localhost:8080/"
        },
        "id": "bBXbwAEUkA_f",
        "outputId": "91477bcd-3a07-477c-aa76-4ee6259f1345"
      },
      "source": [
        "X_train.shape"
      ],
      "execution_count": 16,
      "outputs": [
        {
          "output_type": "execute_result",
          "data": {
            "text/plain": [
              "(5625, 19)"
            ]
          },
          "metadata": {},
          "execution_count": 16
        }
      ]
    },
    {
      "cell_type": "markdown",
      "metadata": {
        "id": "kckx3K4Kjv8Y"
      },
      "source": [
        "There is imbalance in Churn column"
      ]
    },
    {
      "cell_type": "code",
      "metadata": {
        "id": "dsGSHiqQjkZh"
      },
      "source": [
        "model = keras.Sequential([\n",
        "                          keras.layers.Dense(units = 20,\n",
        "                                             input_shape=(X_train.shape[1],),\n",
        "                                             activation='relu'),\n",
        "                          keras.layers.Dense(units = 15,\n",
        "                                             activation='relu'),\n",
        "                          keras.layers.Dense(1,\n",
        "                                             activation='sigmoid')\n",
        "])\n",
        "\n"
      ],
      "execution_count": 17,
      "outputs": []
    },
    {
      "cell_type": "code",
      "metadata": {
        "id": "K6P_Qy2bnW8Z"
      },
      "source": [
        "model.compile(optimizer='sgd',\n",
        "              loss='binary_crossentropy',\n",
        "              metrics=['accuracy'])"
      ],
      "execution_count": 18,
      "outputs": []
    },
    {
      "cell_type": "code",
      "metadata": {
        "colab": {
          "base_uri": "https://localhost:8080/"
        },
        "id": "-HRel4htlLvt",
        "outputId": "deea1211-bd02-4dbb-b7bd-9d2ed3fb98bf"
      },
      "source": [
        "history = model.fit(X_train,\n",
        "          y_train,\n",
        "          validation_split=0.2,\n",
        "          batch_size=8,\n",
        "          epochs=100)"
      ],
      "execution_count": 19,
      "outputs": [
        {
          "output_type": "stream",
          "name": "stdout",
          "text": [
            "Epoch 1/100\n",
            "563/563 [==============================] - 2s 2ms/step - loss: 0.5367 - accuracy: 0.7433 - val_loss: 0.4944 - val_accuracy: 0.7493\n",
            "Epoch 2/100\n",
            "563/563 [==============================] - 1s 2ms/step - loss: 0.4592 - accuracy: 0.7909 - val_loss: 0.4691 - val_accuracy: 0.7698\n",
            "Epoch 3/100\n",
            "563/563 [==============================] - 1s 2ms/step - loss: 0.4392 - accuracy: 0.8042 - val_loss: 0.4591 - val_accuracy: 0.7849\n",
            "Epoch 4/100\n",
            "563/563 [==============================] - 1s 2ms/step - loss: 0.4327 - accuracy: 0.8080 - val_loss: 0.4541 - val_accuracy: 0.7804\n",
            "Epoch 5/100\n",
            "563/563 [==============================] - 1s 2ms/step - loss: 0.4281 - accuracy: 0.8107 - val_loss: 0.4512 - val_accuracy: 0.7733\n",
            "Epoch 6/100\n",
            "563/563 [==============================] - 1s 2ms/step - loss: 0.4248 - accuracy: 0.8084 - val_loss: 0.4476 - val_accuracy: 0.7778\n",
            "Epoch 7/100\n",
            "563/563 [==============================] - 1s 2ms/step - loss: 0.4233 - accuracy: 0.8102 - val_loss: 0.4458 - val_accuracy: 0.7858\n",
            "Epoch 8/100\n",
            "563/563 [==============================] - 1s 2ms/step - loss: 0.4222 - accuracy: 0.8109 - val_loss: 0.4456 - val_accuracy: 0.7822\n",
            "Epoch 9/100\n",
            "563/563 [==============================] - 1s 2ms/step - loss: 0.4212 - accuracy: 0.8107 - val_loss: 0.4461 - val_accuracy: 0.7778\n",
            "Epoch 10/100\n",
            "563/563 [==============================] - 1s 2ms/step - loss: 0.4205 - accuracy: 0.8122 - val_loss: 0.4422 - val_accuracy: 0.7902\n",
            "Epoch 11/100\n",
            "563/563 [==============================] - 1s 2ms/step - loss: 0.4202 - accuracy: 0.8104 - val_loss: 0.4431 - val_accuracy: 0.7796\n",
            "Epoch 12/100\n",
            "563/563 [==============================] - 1s 2ms/step - loss: 0.4193 - accuracy: 0.8104 - val_loss: 0.4408 - val_accuracy: 0.7938\n",
            "Epoch 13/100\n",
            "563/563 [==============================] - 1s 2ms/step - loss: 0.4185 - accuracy: 0.8133 - val_loss: 0.4412 - val_accuracy: 0.7884\n",
            "Epoch 14/100\n",
            "563/563 [==============================] - 1s 2ms/step - loss: 0.4182 - accuracy: 0.8144 - val_loss: 0.4416 - val_accuracy: 0.7876\n",
            "Epoch 15/100\n",
            "563/563 [==============================] - 1s 2ms/step - loss: 0.4179 - accuracy: 0.8122 - val_loss: 0.4452 - val_accuracy: 0.7804\n",
            "Epoch 16/100\n",
            "563/563 [==============================] - 1s 2ms/step - loss: 0.4175 - accuracy: 0.8122 - val_loss: 0.4428 - val_accuracy: 0.7911\n",
            "Epoch 17/100\n",
            "563/563 [==============================] - 1s 2ms/step - loss: 0.4171 - accuracy: 0.8116 - val_loss: 0.4404 - val_accuracy: 0.7920\n",
            "Epoch 18/100\n",
            "563/563 [==============================] - 1s 2ms/step - loss: 0.4169 - accuracy: 0.8136 - val_loss: 0.4409 - val_accuracy: 0.7938\n",
            "Epoch 19/100\n",
            "563/563 [==============================] - 1s 2ms/step - loss: 0.4159 - accuracy: 0.8096 - val_loss: 0.4395 - val_accuracy: 0.7911\n",
            "Epoch 20/100\n",
            "563/563 [==============================] - 1s 2ms/step - loss: 0.4156 - accuracy: 0.8096 - val_loss: 0.4391 - val_accuracy: 0.7947\n",
            "Epoch 21/100\n",
            "563/563 [==============================] - 1s 2ms/step - loss: 0.4160 - accuracy: 0.8144 - val_loss: 0.4404 - val_accuracy: 0.7867\n",
            "Epoch 22/100\n",
            "563/563 [==============================] - 1s 2ms/step - loss: 0.4149 - accuracy: 0.8116 - val_loss: 0.4442 - val_accuracy: 0.7920\n",
            "Epoch 23/100\n",
            "563/563 [==============================] - 1s 2ms/step - loss: 0.4148 - accuracy: 0.8136 - val_loss: 0.4421 - val_accuracy: 0.7902\n",
            "Epoch 24/100\n",
            "563/563 [==============================] - 1s 2ms/step - loss: 0.4145 - accuracy: 0.8142 - val_loss: 0.4401 - val_accuracy: 0.7858\n",
            "Epoch 25/100\n",
            "563/563 [==============================] - 1s 2ms/step - loss: 0.4144 - accuracy: 0.8131 - val_loss: 0.4394 - val_accuracy: 0.7947\n",
            "Epoch 26/100\n",
            "563/563 [==============================] - 1s 2ms/step - loss: 0.4137 - accuracy: 0.8113 - val_loss: 0.4390 - val_accuracy: 0.7911\n",
            "Epoch 27/100\n",
            "563/563 [==============================] - 1s 2ms/step - loss: 0.4126 - accuracy: 0.8142 - val_loss: 0.4420 - val_accuracy: 0.7804\n",
            "Epoch 28/100\n",
            "563/563 [==============================] - 1s 2ms/step - loss: 0.4127 - accuracy: 0.8138 - val_loss: 0.4390 - val_accuracy: 0.7911\n",
            "Epoch 29/100\n",
            "563/563 [==============================] - 1s 2ms/step - loss: 0.4123 - accuracy: 0.8142 - val_loss: 0.4589 - val_accuracy: 0.7778\n",
            "Epoch 30/100\n",
            "563/563 [==============================] - 1s 2ms/step - loss: 0.4120 - accuracy: 0.8131 - val_loss: 0.4416 - val_accuracy: 0.7858\n",
            "Epoch 31/100\n",
            "563/563 [==============================] - 1s 2ms/step - loss: 0.4118 - accuracy: 0.8160 - val_loss: 0.4385 - val_accuracy: 0.7929\n",
            "Epoch 32/100\n",
            "563/563 [==============================] - 1s 2ms/step - loss: 0.4112 - accuracy: 0.8147 - val_loss: 0.4447 - val_accuracy: 0.7902\n",
            "Epoch 33/100\n",
            "563/563 [==============================] - 1s 2ms/step - loss: 0.4115 - accuracy: 0.8142 - val_loss: 0.4415 - val_accuracy: 0.7822\n",
            "Epoch 34/100\n",
            "563/563 [==============================] - 1s 2ms/step - loss: 0.4105 - accuracy: 0.8142 - val_loss: 0.4369 - val_accuracy: 0.7902\n",
            "Epoch 35/100\n",
            "563/563 [==============================] - 1s 2ms/step - loss: 0.4105 - accuracy: 0.8113 - val_loss: 0.4409 - val_accuracy: 0.7849\n",
            "Epoch 36/100\n",
            "563/563 [==============================] - 1s 2ms/step - loss: 0.4104 - accuracy: 0.8173 - val_loss: 0.4399 - val_accuracy: 0.7947\n",
            "Epoch 37/100\n",
            "563/563 [==============================] - 1s 2ms/step - loss: 0.4104 - accuracy: 0.8133 - val_loss: 0.4386 - val_accuracy: 0.7867\n",
            "Epoch 38/100\n",
            "563/563 [==============================] - 1s 2ms/step - loss: 0.4090 - accuracy: 0.8158 - val_loss: 0.4411 - val_accuracy: 0.7840\n",
            "Epoch 39/100\n",
            "563/563 [==============================] - 1s 2ms/step - loss: 0.4084 - accuracy: 0.8133 - val_loss: 0.4382 - val_accuracy: 0.7947\n",
            "Epoch 40/100\n",
            "563/563 [==============================] - 1s 2ms/step - loss: 0.4078 - accuracy: 0.8158 - val_loss: 0.4401 - val_accuracy: 0.7938\n",
            "Epoch 41/100\n",
            "563/563 [==============================] - 1s 2ms/step - loss: 0.4091 - accuracy: 0.8151 - val_loss: 0.4386 - val_accuracy: 0.7929\n",
            "Epoch 42/100\n",
            "563/563 [==============================] - 1s 2ms/step - loss: 0.4078 - accuracy: 0.8162 - val_loss: 0.4384 - val_accuracy: 0.7902\n",
            "Epoch 43/100\n",
            "563/563 [==============================] - 1s 2ms/step - loss: 0.4076 - accuracy: 0.8133 - val_loss: 0.4406 - val_accuracy: 0.7804\n",
            "Epoch 44/100\n",
            "563/563 [==============================] - 1s 2ms/step - loss: 0.4070 - accuracy: 0.8160 - val_loss: 0.4389 - val_accuracy: 0.7911\n",
            "Epoch 45/100\n",
            "563/563 [==============================] - 1s 2ms/step - loss: 0.4070 - accuracy: 0.8182 - val_loss: 0.4468 - val_accuracy: 0.7804\n",
            "Epoch 46/100\n",
            "563/563 [==============================] - 1s 2ms/step - loss: 0.4067 - accuracy: 0.8176 - val_loss: 0.4387 - val_accuracy: 0.7867\n",
            "Epoch 47/100\n",
            "563/563 [==============================] - 1s 2ms/step - loss: 0.4070 - accuracy: 0.8171 - val_loss: 0.4467 - val_accuracy: 0.7689\n",
            "Epoch 48/100\n",
            "563/563 [==============================] - 1s 2ms/step - loss: 0.4063 - accuracy: 0.8149 - val_loss: 0.4428 - val_accuracy: 0.7787\n",
            "Epoch 49/100\n",
            "563/563 [==============================] - 1s 2ms/step - loss: 0.4054 - accuracy: 0.8180 - val_loss: 0.4410 - val_accuracy: 0.7902\n",
            "Epoch 50/100\n",
            "563/563 [==============================] - 1s 2ms/step - loss: 0.4059 - accuracy: 0.8147 - val_loss: 0.4378 - val_accuracy: 0.7893\n",
            "Epoch 51/100\n",
            "563/563 [==============================] - 1s 2ms/step - loss: 0.4045 - accuracy: 0.8167 - val_loss: 0.4395 - val_accuracy: 0.7902\n",
            "Epoch 52/100\n",
            "563/563 [==============================] - 1s 2ms/step - loss: 0.4052 - accuracy: 0.8169 - val_loss: 0.4381 - val_accuracy: 0.7920\n",
            "Epoch 53/100\n",
            "563/563 [==============================] - 1s 2ms/step - loss: 0.4048 - accuracy: 0.8187 - val_loss: 0.4376 - val_accuracy: 0.7902\n",
            "Epoch 54/100\n",
            "563/563 [==============================] - 1s 2ms/step - loss: 0.4040 - accuracy: 0.8176 - val_loss: 0.4380 - val_accuracy: 0.7920\n",
            "Epoch 55/100\n",
            "563/563 [==============================] - 1s 2ms/step - loss: 0.4037 - accuracy: 0.8176 - val_loss: 0.4382 - val_accuracy: 0.7876\n",
            "Epoch 56/100\n",
            "563/563 [==============================] - 1s 2ms/step - loss: 0.4024 - accuracy: 0.8160 - val_loss: 0.4486 - val_accuracy: 0.7733\n",
            "Epoch 57/100\n",
            "563/563 [==============================] - 1s 2ms/step - loss: 0.4033 - accuracy: 0.8189 - val_loss: 0.4374 - val_accuracy: 0.7947\n",
            "Epoch 58/100\n",
            "563/563 [==============================] - 1s 2ms/step - loss: 0.4027 - accuracy: 0.8164 - val_loss: 0.4413 - val_accuracy: 0.7893\n",
            "Epoch 59/100\n",
            "563/563 [==============================] - 1s 2ms/step - loss: 0.4027 - accuracy: 0.8196 - val_loss: 0.4394 - val_accuracy: 0.7938\n",
            "Epoch 60/100\n",
            "563/563 [==============================] - 1s 2ms/step - loss: 0.4020 - accuracy: 0.8162 - val_loss: 0.4369 - val_accuracy: 0.7964\n",
            "Epoch 61/100\n",
            "563/563 [==============================] - 1s 2ms/step - loss: 0.4007 - accuracy: 0.8184 - val_loss: 0.4414 - val_accuracy: 0.7973\n",
            "Epoch 62/100\n",
            "563/563 [==============================] - 1s 2ms/step - loss: 0.4012 - accuracy: 0.8158 - val_loss: 0.4459 - val_accuracy: 0.7742\n",
            "Epoch 63/100\n",
            "563/563 [==============================] - 1s 2ms/step - loss: 0.4009 - accuracy: 0.8156 - val_loss: 0.4399 - val_accuracy: 0.7840\n",
            "Epoch 64/100\n",
            "563/563 [==============================] - 1s 2ms/step - loss: 0.4005 - accuracy: 0.8158 - val_loss: 0.4371 - val_accuracy: 0.7929\n",
            "Epoch 65/100\n",
            "563/563 [==============================] - 1s 2ms/step - loss: 0.4007 - accuracy: 0.8200 - val_loss: 0.4399 - val_accuracy: 0.7840\n",
            "Epoch 66/100\n",
            "563/563 [==============================] - 1s 2ms/step - loss: 0.4000 - accuracy: 0.8160 - val_loss: 0.4407 - val_accuracy: 0.7849\n",
            "Epoch 67/100\n",
            "563/563 [==============================] - 1s 2ms/step - loss: 0.4003 - accuracy: 0.8169 - val_loss: 0.4370 - val_accuracy: 0.7956\n",
            "Epoch 68/100\n",
            "563/563 [==============================] - 1s 2ms/step - loss: 0.3987 - accuracy: 0.8178 - val_loss: 0.4373 - val_accuracy: 0.7964\n",
            "Epoch 69/100\n",
            "563/563 [==============================] - 1s 2ms/step - loss: 0.3994 - accuracy: 0.8162 - val_loss: 0.4368 - val_accuracy: 0.7929\n",
            "Epoch 70/100\n",
            "563/563 [==============================] - 1s 2ms/step - loss: 0.3989 - accuracy: 0.8184 - val_loss: 0.4373 - val_accuracy: 0.7929\n",
            "Epoch 71/100\n",
            "563/563 [==============================] - 1s 2ms/step - loss: 0.3986 - accuracy: 0.8189 - val_loss: 0.4381 - val_accuracy: 0.7902\n",
            "Epoch 72/100\n",
            "563/563 [==============================] - 1s 2ms/step - loss: 0.3977 - accuracy: 0.8193 - val_loss: 0.4383 - val_accuracy: 0.7938\n",
            "Epoch 73/100\n",
            "563/563 [==============================] - 1s 2ms/step - loss: 0.3980 - accuracy: 0.8156 - val_loss: 0.4370 - val_accuracy: 0.7929\n",
            "Epoch 74/100\n",
            "563/563 [==============================] - 1s 2ms/step - loss: 0.3966 - accuracy: 0.8200 - val_loss: 0.4434 - val_accuracy: 0.7778\n",
            "Epoch 75/100\n",
            "563/563 [==============================] - 1s 2ms/step - loss: 0.3970 - accuracy: 0.8220 - val_loss: 0.4397 - val_accuracy: 0.7973\n",
            "Epoch 76/100\n",
            "563/563 [==============================] - 1s 2ms/step - loss: 0.3968 - accuracy: 0.8209 - val_loss: 0.4395 - val_accuracy: 0.7920\n",
            "Epoch 77/100\n",
            "563/563 [==============================] - 1s 2ms/step - loss: 0.3969 - accuracy: 0.8198 - val_loss: 0.4396 - val_accuracy: 0.7938\n",
            "Epoch 78/100\n",
            "563/563 [==============================] - 1s 2ms/step - loss: 0.3968 - accuracy: 0.8184 - val_loss: 0.4380 - val_accuracy: 0.8018\n",
            "Epoch 79/100\n",
            "563/563 [==============================] - 1s 2ms/step - loss: 0.3960 - accuracy: 0.8182 - val_loss: 0.4358 - val_accuracy: 0.7991\n",
            "Epoch 80/100\n",
            "563/563 [==============================] - 1s 2ms/step - loss: 0.3958 - accuracy: 0.8224 - val_loss: 0.4372 - val_accuracy: 0.7911\n",
            "Epoch 81/100\n",
            "563/563 [==============================] - 1s 2ms/step - loss: 0.3952 - accuracy: 0.8182 - val_loss: 0.4392 - val_accuracy: 0.7929\n",
            "Epoch 82/100\n",
            "563/563 [==============================] - 1s 2ms/step - loss: 0.3956 - accuracy: 0.8189 - val_loss: 0.4436 - val_accuracy: 0.7769\n",
            "Epoch 83/100\n",
            "563/563 [==============================] - 1s 2ms/step - loss: 0.3956 - accuracy: 0.8207 - val_loss: 0.4365 - val_accuracy: 0.7947\n",
            "Epoch 84/100\n",
            "563/563 [==============================] - 1s 2ms/step - loss: 0.3943 - accuracy: 0.8220 - val_loss: 0.4461 - val_accuracy: 0.7733\n",
            "Epoch 85/100\n",
            "563/563 [==============================] - 1s 2ms/step - loss: 0.3948 - accuracy: 0.8198 - val_loss: 0.4373 - val_accuracy: 0.7929\n",
            "Epoch 86/100\n",
            "563/563 [==============================] - 1s 2ms/step - loss: 0.3937 - accuracy: 0.8220 - val_loss: 0.4445 - val_accuracy: 0.7804\n",
            "Epoch 87/100\n",
            "563/563 [==============================] - 1s 2ms/step - loss: 0.3933 - accuracy: 0.8209 - val_loss: 0.4378 - val_accuracy: 0.7831\n",
            "Epoch 88/100\n",
            "563/563 [==============================] - 1s 2ms/step - loss: 0.3941 - accuracy: 0.8191 - val_loss: 0.4366 - val_accuracy: 0.7938\n",
            "Epoch 89/100\n",
            "563/563 [==============================] - 1s 2ms/step - loss: 0.3936 - accuracy: 0.8209 - val_loss: 0.4383 - val_accuracy: 0.7929\n",
            "Epoch 90/100\n",
            "563/563 [==============================] - 1s 2ms/step - loss: 0.3936 - accuracy: 0.8196 - val_loss: 0.4395 - val_accuracy: 0.7929\n",
            "Epoch 91/100\n",
            "563/563 [==============================] - 1s 2ms/step - loss: 0.3938 - accuracy: 0.8238 - val_loss: 0.4399 - val_accuracy: 0.7849\n",
            "Epoch 92/100\n",
            "563/563 [==============================] - 1s 2ms/step - loss: 0.3929 - accuracy: 0.8193 - val_loss: 0.4439 - val_accuracy: 0.7858\n",
            "Epoch 93/100\n",
            "563/563 [==============================] - 1s 2ms/step - loss: 0.3932 - accuracy: 0.8211 - val_loss: 0.4358 - val_accuracy: 0.7991\n",
            "Epoch 94/100\n",
            "563/563 [==============================] - 1s 2ms/step - loss: 0.3917 - accuracy: 0.8189 - val_loss: 0.4389 - val_accuracy: 0.7973\n",
            "Epoch 95/100\n",
            "563/563 [==============================] - 1s 2ms/step - loss: 0.3917 - accuracy: 0.8231 - val_loss: 0.4432 - val_accuracy: 0.7804\n",
            "Epoch 96/100\n",
            "563/563 [==============================] - 1s 2ms/step - loss: 0.3919 - accuracy: 0.8189 - val_loss: 0.4376 - val_accuracy: 0.7920\n",
            "Epoch 97/100\n",
            "563/563 [==============================] - 1s 2ms/step - loss: 0.3913 - accuracy: 0.8209 - val_loss: 0.4383 - val_accuracy: 0.7920\n",
            "Epoch 98/100\n",
            "563/563 [==============================] - 1s 2ms/step - loss: 0.3912 - accuracy: 0.8216 - val_loss: 0.4471 - val_accuracy: 0.7733\n",
            "Epoch 99/100\n",
            "563/563 [==============================] - 1s 2ms/step - loss: 0.3909 - accuracy: 0.8231 - val_loss: 0.4366 - val_accuracy: 0.7929\n",
            "Epoch 100/100\n",
            "563/563 [==============================] - 1s 2ms/step - loss: 0.3905 - accuracy: 0.8222 - val_loss: 0.4364 - val_accuracy: 0.7938\n"
          ]
        }
      ]
    },
    {
      "cell_type": "code",
      "metadata": {
        "colab": {
          "base_uri": "https://localhost:8080/"
        },
        "id": "8Zr2gausm3sx",
        "outputId": "b42bba3e-eb29-4e01-cbb3-3fe64375313e"
      },
      "source": [
        "model.evaluate(X_test,y_test)"
      ],
      "execution_count": 20,
      "outputs": [
        {
          "output_type": "stream",
          "name": "stdout",
          "text": [
            "44/44 [==============================] - 0s 1ms/step - loss: 0.4563 - accuracy: 0.7761\n"
          ]
        },
        {
          "output_type": "execute_result",
          "data": {
            "text/plain": [
              "[0.4562525749206543, 0.7761194109916687]"
            ]
          },
          "metadata": {},
          "execution_count": 20
        }
      ]
    },
    {
      "cell_type": "code",
      "metadata": {
        "colab": {
          "base_uri": "https://localhost:8080/",
          "height": 282
        },
        "id": "7GPDMU9blMmi",
        "outputId": "b51fdb9e-2307-4dde-9315-cc494901a119"
      },
      "source": [
        "pd.DataFrame(history.history).plot()"
      ],
      "execution_count": 21,
      "outputs": [
        {
          "output_type": "execute_result",
          "data": {
            "text/plain": [
              "<matplotlib.axes._subplots.AxesSubplot at 0x7ff813a07d90>"
            ]
          },
          "metadata": {},
          "execution_count": 21
        },
        {
          "output_type": "display_data",
          "data": {
            "image/png": "[encoded data removed]",
            "text/plain": [
              "<Figure size 432x288 with 1 Axes>"
            ]
          },
          "metadata": {
            "needs_background": "light"
          }
        }
      ]
    },
    {
      "cell_type": "code",
      "metadata": {
        "id": "efXFPB54nQlU"
      },
      "source": [
        "pred = model.predict(X_test)\n",
        "pred_class = np.round(pred,0)\n",
        "pred_class=list(pred_class.reshape(-1))"
      ],
      "execution_count": 22,
      "outputs": []
    },
    {
      "cell_type": "code",
      "metadata": {
        "colab": {
          "base_uri": "https://localhost:8080/"
        },
        "id": "xcpop6YupKBb",
        "outputId": "6a6877a8-39cc-43c6-9d33-33a0a2af5844"
      },
      "source": [
        "print(classification_report(y_test,pred_class))"
      ],
      "execution_count": 23,
      "outputs": [
        {
          "output_type": "stream",
          "name": "stdout",
          "text": [
            "              precision    recall  f1-score   support\n",
            "\n",
            "           0       0.82      0.87      0.85       999\n",
            "           1       0.63      0.54      0.58       408\n",
            "\n",
            "    accuracy                           0.78      1407\n",
            "   macro avg       0.73      0.71      0.71      1407\n",
            "weighted avg       0.77      0.78      0.77      1407\n",
            "\n"
          ]
        }
      ]
    },
    {
      "cell_type": "code",
      "metadata": {
        "colab": {
          "base_uri": "https://localhost:8080/",
          "height": 282
        },
        "id": "LMgexo27piJZ",
        "outputId": "032fcf66-ed11-4d5b-8dff-5b481701678d"
      },
      "source": [
        "sns.heatmap(confusion_matrix(y_test,pred_class),annot=True,fmt='d')"
      ],
      "execution_count": 24,
      "outputs": [
        {
          "output_type": "execute_result",
          "data": {
            "text/plain": [
              "<matplotlib.axes._subplots.AxesSubplot at 0x7ff812277e50>"
            ]
          },
          "metadata": {},
          "execution_count": 24
        },
        {
          "output_type": "display_data",
          "data": {
            "image/png": "[encoded data removed]",
            "text/plain": [
              "<Figure size 432x288 with 2 Axes>"
            ]
          },
          "metadata": {
            "needs_background": "light"
          }
        }
      ]
    },
    {
      "cell_type": "markdown",
      "metadata": {
        "id": "5Mv5fJUU2Gk_"
      },
      "source": [
        "FIXING IMBALANCE IN DATASET"
      ]
    },
    {
      "cell_type": "code",
      "metadata": {
        "id": "q1UL6f3_rwdQ"
      },
      "source": [
        "# 1. undersampling majority class (class_0)\n",
        "X = data.drop('Churn',axis=1)\n",
        "y = data['Churn'].copy()\n",
        "X_train,X_test,y_train,y_test = train_test_split(X,y,test_size=0.2,random_state=5,stratify=y)\n",
        "train_data = X_train.join(y_train)\n",
        "\n",
        "class_0,class_1 = train_data.Churn.value_counts()\n",
        "\n",
        "undersampled_class_0 = train_data[train_data.Churn==0].sample(class_1)\n",
        "data_undersampled = pd.concat([undersampled_class_0,train_data[train_data.Churn==1]],ignore_index=True)\n",
        "data_undersampled = data_undersampled.iloc[np.random.permutation(len(data_undersampled))].reset_index(drop=True)\n",
        "\n",
        "X_train_new = data_undersampled.drop('Churn',axis=1)\n",
        "y_train_new = data_undersampled['Churn'].copy()"
      ],
      "execution_count": 25,
      "outputs": []
    },
    {
      "cell_type": "code",
      "metadata": {
        "colab": {
          "base_uri": "https://localhost:8080/"
        },
        "id": "NGEBN-tJ2BBD",
        "outputId": "b703ad99-f68e-4911-80b9-e6f273a7e3ce"
      },
      "source": [
        "data_undersampled.Churn.value_counts()"
      ],
      "execution_count": 26,
      "outputs": [
        {
          "output_type": "execute_result",
          "data": {
            "text/plain": [
              "1    1495\n",
              "0    1495\n",
              "Name: Churn, dtype: int64"
            ]
          },
          "metadata": {},
          "execution_count": 26
        }
      ]
    },
    {
      "cell_type": "code",
      "metadata": {
        "colab": {
          "base_uri": "https://localhost:8080/"
        },
        "id": "Zw-iy-xA9wMs",
        "outputId": "c0877916-d356-46e6-fc5e-d43e5198de3f"
      },
      "source": [
        "history = model.fit(X_train_new,\n",
        "          y_train_new,\n",
        "          validation_split=0.2,\n",
        "          batch_size=8,\n",
        "          epochs=100)"
      ],
      "execution_count": 27,
      "outputs": [
        {
          "output_type": "stream",
          "name": "stdout",
          "text": [
            "Epoch 1/100\n",
            "299/299 [==============================] - 1s 2ms/step - loss: 0.4808 - accuracy: 0.7692 - val_loss: 0.5336 - val_accuracy: 0.7291\n",
            "Epoch 2/100\n",
            "299/299 [==============================] - 1s 2ms/step - loss: 0.4774 - accuracy: 0.7717 - val_loss: 0.5288 - val_accuracy: 0.7258\n",
            "Epoch 3/100\n",
            "299/299 [==============================] - 1s 2ms/step - loss: 0.4756 - accuracy: 0.7709 - val_loss: 0.5297 - val_accuracy: 0.7224\n",
            "Epoch 4/100\n",
            "299/299 [==============================] - 1s 2ms/step - loss: 0.4733 - accuracy: 0.7776 - val_loss: 0.5254 - val_accuracy: 0.7224\n",
            "Epoch 5/100\n",
            "299/299 [==============================] - 1s 3ms/step - loss: 0.4723 - accuracy: 0.7747 - val_loss: 0.5217 - val_accuracy: 0.7191\n",
            "Epoch 6/100\n",
            "299/299 [==============================] - 1s 2ms/step - loss: 0.4704 - accuracy: 0.7738 - val_loss: 0.5307 - val_accuracy: 0.7308\n",
            "Epoch 7/100\n",
            "299/299 [==============================] - 1s 2ms/step - loss: 0.4687 - accuracy: 0.7751 - val_loss: 0.5267 - val_accuracy: 0.7224\n",
            "Epoch 8/100\n",
            "299/299 [==============================] - 1s 2ms/step - loss: 0.4676 - accuracy: 0.7780 - val_loss: 0.5250 - val_accuracy: 0.7425\n",
            "Epoch 9/100\n",
            "299/299 [==============================] - 1s 2ms/step - loss: 0.4664 - accuracy: 0.7776 - val_loss: 0.5223 - val_accuracy: 0.7341\n",
            "Epoch 10/100\n",
            "299/299 [==============================] - 1s 2ms/step - loss: 0.4663 - accuracy: 0.7814 - val_loss: 0.5234 - val_accuracy: 0.7308\n",
            "Epoch 11/100\n",
            "299/299 [==============================] - 1s 2ms/step - loss: 0.4636 - accuracy: 0.7772 - val_loss: 0.5304 - val_accuracy: 0.7174\n",
            "Epoch 12/100\n",
            "299/299 [==============================] - 1s 2ms/step - loss: 0.4638 - accuracy: 0.7788 - val_loss: 0.5343 - val_accuracy: 0.7174\n",
            "Epoch 13/100\n",
            "299/299 [==============================] - 1s 2ms/step - loss: 0.4613 - accuracy: 0.7834 - val_loss: 0.5384 - val_accuracy: 0.7191\n",
            "Epoch 14/100\n",
            "299/299 [==============================] - 1s 2ms/step - loss: 0.4622 - accuracy: 0.7826 - val_loss: 0.5335 - val_accuracy: 0.7308\n",
            "Epoch 15/100\n",
            "299/299 [==============================] - 1s 2ms/step - loss: 0.4605 - accuracy: 0.7906 - val_loss: 0.5322 - val_accuracy: 0.7291\n",
            "Epoch 16/100\n",
            "299/299 [==============================] - 1s 2ms/step - loss: 0.4604 - accuracy: 0.7814 - val_loss: 0.5346 - val_accuracy: 0.7375\n",
            "Epoch 17/100\n",
            "299/299 [==============================] - 1s 2ms/step - loss: 0.4584 - accuracy: 0.7855 - val_loss: 0.5306 - val_accuracy: 0.7191\n",
            "Epoch 18/100\n",
            "299/299 [==============================] - 1s 2ms/step - loss: 0.4585 - accuracy: 0.7818 - val_loss: 0.5414 - val_accuracy: 0.7291\n",
            "Epoch 19/100\n",
            "299/299 [==============================] - 1s 2ms/step - loss: 0.4576 - accuracy: 0.7847 - val_loss: 0.5353 - val_accuracy: 0.7258\n",
            "Epoch 20/100\n",
            "299/299 [==============================] - 1s 2ms/step - loss: 0.4572 - accuracy: 0.7901 - val_loss: 0.5379 - val_accuracy: 0.7291\n",
            "Epoch 21/100\n",
            "299/299 [==============================] - 1s 2ms/step - loss: 0.4570 - accuracy: 0.7868 - val_loss: 0.5334 - val_accuracy: 0.7358\n",
            "Epoch 22/100\n",
            "299/299 [==============================] - 1s 2ms/step - loss: 0.4567 - accuracy: 0.7830 - val_loss: 0.5376 - val_accuracy: 0.7358\n",
            "Epoch 23/100\n",
            "299/299 [==============================] - 1s 2ms/step - loss: 0.4552 - accuracy: 0.7860 - val_loss: 0.5397 - val_accuracy: 0.7224\n",
            "Epoch 24/100\n",
            "299/299 [==============================] - 1s 2ms/step - loss: 0.4539 - accuracy: 0.7864 - val_loss: 0.5424 - val_accuracy: 0.7274\n",
            "Epoch 25/100\n",
            "299/299 [==============================] - 1s 2ms/step - loss: 0.4529 - accuracy: 0.7922 - val_loss: 0.5387 - val_accuracy: 0.7358\n",
            "Epoch 26/100\n",
            "299/299 [==============================] - 1s 2ms/step - loss: 0.4520 - accuracy: 0.7893 - val_loss: 0.5454 - val_accuracy: 0.7207\n",
            "Epoch 27/100\n",
            "299/299 [==============================] - 1s 2ms/step - loss: 0.4525 - accuracy: 0.7830 - val_loss: 0.5397 - val_accuracy: 0.7324\n",
            "Epoch 28/100\n",
            "299/299 [==============================] - 1s 2ms/step - loss: 0.4513 - accuracy: 0.7876 - val_loss: 0.5421 - val_accuracy: 0.7258\n",
            "Epoch 29/100\n",
            "299/299 [==============================] - 1s 2ms/step - loss: 0.4498 - accuracy: 0.7914 - val_loss: 0.5519 - val_accuracy: 0.7291\n",
            "Epoch 30/100\n",
            "299/299 [==============================] - 1s 2ms/step - loss: 0.4500 - accuracy: 0.7918 - val_loss: 0.5453 - val_accuracy: 0.7274\n",
            "Epoch 31/100\n",
            "299/299 [==============================] - 1s 2ms/step - loss: 0.4507 - accuracy: 0.7893 - val_loss: 0.5503 - val_accuracy: 0.7224\n",
            "Epoch 32/100\n",
            "299/299 [==============================] - 1s 2ms/step - loss: 0.4495 - accuracy: 0.7893 - val_loss: 0.5442 - val_accuracy: 0.7375\n",
            "Epoch 33/100\n",
            "299/299 [==============================] - 1s 2ms/step - loss: 0.4475 - accuracy: 0.7901 - val_loss: 0.5511 - val_accuracy: 0.7324\n",
            "Epoch 34/100\n",
            "299/299 [==============================] - 1s 2ms/step - loss: 0.4483 - accuracy: 0.7872 - val_loss: 0.5456 - val_accuracy: 0.7391\n",
            "Epoch 35/100\n",
            "299/299 [==============================] - 1s 2ms/step - loss: 0.4479 - accuracy: 0.7952 - val_loss: 0.5471 - val_accuracy: 0.7291\n",
            "Epoch 36/100\n",
            "299/299 [==============================] - 1s 2ms/step - loss: 0.4463 - accuracy: 0.7943 - val_loss: 0.5566 - val_accuracy: 0.7274\n",
            "Epoch 37/100\n",
            "299/299 [==============================] - 1s 2ms/step - loss: 0.4463 - accuracy: 0.7947 - val_loss: 0.5446 - val_accuracy: 0.7408\n",
            "Epoch 38/100\n",
            "299/299 [==============================] - 1s 2ms/step - loss: 0.4453 - accuracy: 0.7876 - val_loss: 0.5522 - val_accuracy: 0.7358\n",
            "Epoch 39/100\n",
            "299/299 [==============================] - 1s 2ms/step - loss: 0.4452 - accuracy: 0.7985 - val_loss: 0.5476 - val_accuracy: 0.7308\n",
            "Epoch 40/100\n",
            "299/299 [==============================] - 1s 2ms/step - loss: 0.4451 - accuracy: 0.7952 - val_loss: 0.5582 - val_accuracy: 0.7308\n",
            "Epoch 41/100\n",
            "299/299 [==============================] - 1s 2ms/step - loss: 0.4459 - accuracy: 0.7918 - val_loss: 0.5568 - val_accuracy: 0.7241\n",
            "Epoch 42/100\n",
            "299/299 [==============================] - 1s 2ms/step - loss: 0.4433 - accuracy: 0.7918 - val_loss: 0.5539 - val_accuracy: 0.7308\n",
            "Epoch 43/100\n",
            "299/299 [==============================] - 1s 2ms/step - loss: 0.4417 - accuracy: 0.7922 - val_loss: 0.5670 - val_accuracy: 0.7274\n",
            "Epoch 44/100\n",
            "299/299 [==============================] - 1s 2ms/step - loss: 0.4425 - accuracy: 0.7981 - val_loss: 0.5509 - val_accuracy: 0.7391\n",
            "Epoch 45/100\n",
            "299/299 [==============================] - 1s 2ms/step - loss: 0.4429 - accuracy: 0.7952 - val_loss: 0.5570 - val_accuracy: 0.7274\n",
            "Epoch 46/100\n",
            "299/299 [==============================] - 1s 2ms/step - loss: 0.4402 - accuracy: 0.7964 - val_loss: 0.5555 - val_accuracy: 0.7308\n",
            "Epoch 47/100\n",
            "299/299 [==============================] - 1s 2ms/step - loss: 0.4406 - accuracy: 0.7935 - val_loss: 0.5574 - val_accuracy: 0.7291\n",
            "Epoch 48/100\n",
            "299/299 [==============================] - 1s 2ms/step - loss: 0.4422 - accuracy: 0.7889 - val_loss: 0.5558 - val_accuracy: 0.7308\n",
            "Epoch 49/100\n",
            "299/299 [==============================] - 1s 2ms/step - loss: 0.4407 - accuracy: 0.7968 - val_loss: 0.5541 - val_accuracy: 0.7341\n",
            "Epoch 50/100\n",
            "299/299 [==============================] - 1s 2ms/step - loss: 0.4384 - accuracy: 0.8010 - val_loss: 0.5607 - val_accuracy: 0.7324\n",
            "Epoch 51/100\n",
            "299/299 [==============================] - 1s 2ms/step - loss: 0.4381 - accuracy: 0.7968 - val_loss: 0.5634 - val_accuracy: 0.7391\n",
            "Epoch 52/100\n",
            "299/299 [==============================] - 1s 2ms/step - loss: 0.4397 - accuracy: 0.7985 - val_loss: 0.5674 - val_accuracy: 0.7224\n",
            "Epoch 53/100\n",
            "299/299 [==============================] - 1s 2ms/step - loss: 0.4384 - accuracy: 0.7972 - val_loss: 0.5603 - val_accuracy: 0.7291\n",
            "Epoch 54/100\n",
            "299/299 [==============================] - 1s 2ms/step - loss: 0.4370 - accuracy: 0.7997 - val_loss: 0.5622 - val_accuracy: 0.7324\n",
            "Epoch 55/100\n",
            "299/299 [==============================] - 1s 2ms/step - loss: 0.4369 - accuracy: 0.8052 - val_loss: 0.5644 - val_accuracy: 0.7258\n",
            "Epoch 56/100\n",
            "299/299 [==============================] - 1s 2ms/step - loss: 0.4361 - accuracy: 0.7939 - val_loss: 0.5560 - val_accuracy: 0.7375\n",
            "Epoch 57/100\n",
            "299/299 [==============================] - 1s 2ms/step - loss: 0.4360 - accuracy: 0.8002 - val_loss: 0.5655 - val_accuracy: 0.7241\n",
            "Epoch 58/100\n",
            "299/299 [==============================] - 1s 2ms/step - loss: 0.4355 - accuracy: 0.8027 - val_loss: 0.5682 - val_accuracy: 0.7324\n",
            "Epoch 59/100\n",
            "299/299 [==============================] - 1s 2ms/step - loss: 0.4332 - accuracy: 0.8010 - val_loss: 0.5652 - val_accuracy: 0.7324\n",
            "Epoch 60/100\n",
            "299/299 [==============================] - 1s 2ms/step - loss: 0.4364 - accuracy: 0.8039 - val_loss: 0.5679 - val_accuracy: 0.7324\n",
            "Epoch 61/100\n",
            "299/299 [==============================] - 1s 2ms/step - loss: 0.4347 - accuracy: 0.8002 - val_loss: 0.5638 - val_accuracy: 0.7358\n",
            "Epoch 62/100\n",
            "299/299 [==============================] - 1s 2ms/step - loss: 0.4342 - accuracy: 0.7985 - val_loss: 0.5651 - val_accuracy: 0.7308\n",
            "Epoch 63/100\n",
            "299/299 [==============================] - 1s 2ms/step - loss: 0.4328 - accuracy: 0.8002 - val_loss: 0.5757 - val_accuracy: 0.7191\n",
            "Epoch 64/100\n",
            "299/299 [==============================] - 1s 2ms/step - loss: 0.4310 - accuracy: 0.8027 - val_loss: 0.5759 - val_accuracy: 0.7241\n",
            "Epoch 65/100\n",
            "299/299 [==============================] - 1s 2ms/step - loss: 0.4328 - accuracy: 0.8018 - val_loss: 0.5711 - val_accuracy: 0.7291\n",
            "Epoch 66/100\n",
            "299/299 [==============================] - 1s 2ms/step - loss: 0.4317 - accuracy: 0.8081 - val_loss: 0.5714 - val_accuracy: 0.7241\n",
            "Epoch 67/100\n",
            "299/299 [==============================] - 1s 2ms/step - loss: 0.4321 - accuracy: 0.8018 - val_loss: 0.5663 - val_accuracy: 0.7291\n",
            "Epoch 68/100\n",
            "299/299 [==============================] - 1s 2ms/step - loss: 0.4308 - accuracy: 0.8039 - val_loss: 0.5732 - val_accuracy: 0.7291\n",
            "Epoch 69/100\n",
            "299/299 [==============================] - 1s 2ms/step - loss: 0.4300 - accuracy: 0.7977 - val_loss: 0.5811 - val_accuracy: 0.7341\n",
            "Epoch 70/100\n",
            "299/299 [==============================] - 1s 2ms/step - loss: 0.4313 - accuracy: 0.7993 - val_loss: 0.5693 - val_accuracy: 0.7291\n",
            "Epoch 71/100\n",
            "299/299 [==============================] - 1s 2ms/step - loss: 0.4282 - accuracy: 0.8043 - val_loss: 0.5817 - val_accuracy: 0.7258\n",
            "Epoch 72/100\n",
            "299/299 [==============================] - 1s 2ms/step - loss: 0.4297 - accuracy: 0.8023 - val_loss: 0.5747 - val_accuracy: 0.7308\n",
            "Epoch 73/100\n",
            "299/299 [==============================] - 1s 2ms/step - loss: 0.4297 - accuracy: 0.8035 - val_loss: 0.5778 - val_accuracy: 0.7258\n",
            "Epoch 74/100\n",
            "299/299 [==============================] - 1s 2ms/step - loss: 0.4281 - accuracy: 0.8039 - val_loss: 0.5878 - val_accuracy: 0.7174\n",
            "Epoch 75/100\n",
            "299/299 [==============================] - 1s 2ms/step - loss: 0.4262 - accuracy: 0.8056 - val_loss: 0.5785 - val_accuracy: 0.7274\n",
            "Epoch 76/100\n",
            "299/299 [==============================] - 1s 2ms/step - loss: 0.4266 - accuracy: 0.8031 - val_loss: 0.5747 - val_accuracy: 0.7458\n",
            "Epoch 77/100\n",
            "299/299 [==============================] - 1s 2ms/step - loss: 0.4276 - accuracy: 0.8081 - val_loss: 0.5728 - val_accuracy: 0.7291\n",
            "Epoch 78/100\n",
            "299/299 [==============================] - 1s 2ms/step - loss: 0.4273 - accuracy: 0.8035 - val_loss: 0.5717 - val_accuracy: 0.7425\n",
            "Epoch 79/100\n",
            "299/299 [==============================] - 1s 2ms/step - loss: 0.4256 - accuracy: 0.8039 - val_loss: 0.5792 - val_accuracy: 0.7308\n",
            "Epoch 80/100\n",
            "299/299 [==============================] - 1s 2ms/step - loss: 0.4264 - accuracy: 0.8014 - val_loss: 0.5791 - val_accuracy: 0.7207\n",
            "Epoch 81/100\n",
            "299/299 [==============================] - 1s 2ms/step - loss: 0.4239 - accuracy: 0.8085 - val_loss: 0.5826 - val_accuracy: 0.7207\n",
            "Epoch 82/100\n",
            "299/299 [==============================] - 1s 2ms/step - loss: 0.4230 - accuracy: 0.8018 - val_loss: 0.5770 - val_accuracy: 0.7274\n",
            "Epoch 83/100\n",
            "299/299 [==============================] - 1s 2ms/step - loss: 0.4235 - accuracy: 0.8031 - val_loss: 0.6187 - val_accuracy: 0.7074\n",
            "Epoch 84/100\n",
            "299/299 [==============================] - 1s 2ms/step - loss: 0.4246 - accuracy: 0.7977 - val_loss: 0.5973 - val_accuracy: 0.7207\n",
            "Epoch 85/100\n",
            "299/299 [==============================] - 1s 2ms/step - loss: 0.4237 - accuracy: 0.8073 - val_loss: 0.5742 - val_accuracy: 0.7341\n",
            "Epoch 86/100\n",
            "299/299 [==============================] - 1s 2ms/step - loss: 0.4222 - accuracy: 0.8052 - val_loss: 0.5772 - val_accuracy: 0.7358\n",
            "Epoch 87/100\n",
            "299/299 [==============================] - 1s 2ms/step - loss: 0.4229 - accuracy: 0.8027 - val_loss: 0.5858 - val_accuracy: 0.7107\n",
            "Epoch 88/100\n",
            "299/299 [==============================] - 1s 2ms/step - loss: 0.4218 - accuracy: 0.8052 - val_loss: 0.5726 - val_accuracy: 0.7358\n",
            "Epoch 89/100\n",
            "299/299 [==============================] - 1s 2ms/step - loss: 0.4222 - accuracy: 0.8043 - val_loss: 0.5768 - val_accuracy: 0.7308\n",
            "Epoch 90/100\n",
            "299/299 [==============================] - 1s 2ms/step - loss: 0.4215 - accuracy: 0.8077 - val_loss: 0.5765 - val_accuracy: 0.7291\n",
            "Epoch 91/100\n",
            "299/299 [==============================] - 1s 2ms/step - loss: 0.4208 - accuracy: 0.8069 - val_loss: 0.5847 - val_accuracy: 0.7191\n",
            "Epoch 92/100\n",
            "299/299 [==============================] - 1s 2ms/step - loss: 0.4203 - accuracy: 0.8043 - val_loss: 0.5866 - val_accuracy: 0.7241\n",
            "Epoch 93/100\n",
            "299/299 [==============================] - 1s 2ms/step - loss: 0.4203 - accuracy: 0.8064 - val_loss: 0.6039 - val_accuracy: 0.7191\n",
            "Epoch 94/100\n",
            "299/299 [==============================] - 1s 2ms/step - loss: 0.4187 - accuracy: 0.8073 - val_loss: 0.5872 - val_accuracy: 0.7241\n",
            "Epoch 95/100\n",
            "299/299 [==============================] - 1s 2ms/step - loss: 0.4198 - accuracy: 0.8081 - val_loss: 0.5922 - val_accuracy: 0.7224\n",
            "Epoch 96/100\n",
            "299/299 [==============================] - 1s 2ms/step - loss: 0.4189 - accuracy: 0.8089 - val_loss: 0.5776 - val_accuracy: 0.7341\n",
            "Epoch 97/100\n",
            "299/299 [==============================] - 1s 2ms/step - loss: 0.4185 - accuracy: 0.8077 - val_loss: 0.5878 - val_accuracy: 0.7207\n",
            "Epoch 98/100\n",
            "299/299 [==============================] - 1s 2ms/step - loss: 0.4190 - accuracy: 0.8048 - val_loss: 0.5988 - val_accuracy: 0.7107\n",
            "Epoch 99/100\n",
            "299/299 [==============================] - 1s 2ms/step - loss: 0.4180 - accuracy: 0.8056 - val_loss: 0.5847 - val_accuracy: 0.7341\n",
            "Epoch 100/100\n",
            "299/299 [==============================] - 1s 2ms/step - loss: 0.4175 - accuracy: 0.8081 - val_loss: 0.5818 - val_accuracy: 0.7258\n"
          ]
        }
      ]
    },
    {
      "cell_type": "code",
      "metadata": {
        "colab": {
          "base_uri": "https://localhost:8080/"
        },
        "id": "3eYH62yX-nUI",
        "outputId": "0ed6a445-f7d1-4003-c8f7-362c9c8e5d39"
      },
      "source": [
        "pred = model.predict(X_test)\n",
        "pred_class = np.round(pred,0)\n",
        "pred_class=list(pred_class.reshape(-1))\n",
        "print(classification_report(y_test,pred_class))"
      ],
      "execution_count": 28,
      "outputs": [
        {
          "output_type": "stream",
          "name": "stdout",
          "text": [
            "              precision    recall  f1-score   support\n",
            "\n",
            "           0       0.90      0.72      0.80      1033\n",
            "           1       0.50      0.79      0.61       374\n",
            "\n",
            "    accuracy                           0.74      1407\n",
            "   macro avg       0.70      0.75      0.71      1407\n",
            "weighted avg       0.80      0.74      0.75      1407\n",
            "\n"
          ]
        }
      ]
    },
    {
      "cell_type": "markdown",
      "metadata": {
        "id": "Iv4eqxQ9GFK7"
      },
      "source": [
        "Improved precision & recall for minority class (Churn = 1)"
      ]
    },
    {
      "cell_type": "code",
      "metadata": {
        "colab": {
          "base_uri": "https://localhost:8080/"
        },
        "id": "PwP1NRseGQGI",
        "outputId": "cc9bc787-fd7c-463d-cd78-ff92ecbb715f"
      },
      "source": [
        "# 2. oversampling minority class (Churn = 1) with duplication\n",
        "\n",
        "X = data.drop('Churn',axis=1)\n",
        "y = data['Churn'].copy()\n",
        "X_train,X_test,y_train,y_test = train_test_split(X,y,test_size=0.2,random_state=5,stratify=y)\n",
        "train_data = X_train.join(y_train)\n",
        "\n",
        "\n",
        "class_0_size = train_data[train_data.Churn==0].shape[0]\n",
        "oversampled_class_1 = train_data[train_data.Churn==1].sample(class_0_size,\n",
        "                                                 replace=True)\n",
        "print(\"Oversampled class 1 : \",oversampled_class_1.shape,\"\\n\",\n",
        "      \"Actual class 0 : \", train_data[train_data.Churn==0].shape)\n",
        "\n",
        "data_oversampled = pd.concat([oversampled_class_1,train_data[train_data.Churn==0]],ignore_index=True)\n",
        "data_oversampled = data_oversampled.iloc[np.random.permutation(len(data_oversampled))].reset_index(drop=True)\n",
        "\n",
        "X_train_new = data_oversampled.drop('Churn',axis=1)\n",
        "y_train_new = data_oversampled['Churn'].copy()\n",
        "\n",
        "print(data_oversampled.Churn.value_counts())"
      ],
      "execution_count": 29,
      "outputs": [
        {
          "output_type": "stream",
          "name": "stdout",
          "text": [
            "Oversampled class 1 :  (4130, 20) \n",
            " Actual class 0 :  (4130, 20)\n",
            "1    4130\n",
            "0    4130\n",
            "Name: Churn, dtype: int64\n"
          ]
        }
      ]
    },
    {
      "cell_type": "code",
      "metadata": {
        "colab": {
          "base_uri": "https://localhost:8080/"
        },
        "id": "cIsu9fbBGaVp",
        "outputId": "7daad49a-49b6-42da-9cd3-69af9d5c08ce"
      },
      "source": [
        "history = model.fit(X_train_new,\n",
        "          y_train_new,\n",
        "          validation_split=0.2,\n",
        "          batch_size=8,\n",
        "          epochs=100)"
      ],
      "execution_count": 30,
      "outputs": [
        {
          "output_type": "stream",
          "name": "stdout",
          "text": [
            "Epoch 1/100\n",
            "826/826 [==============================] - 2s 2ms/step - loss: 0.4814 - accuracy: 0.7688 - val_loss: 0.4463 - val_accuracy: 0.7930\n",
            "Epoch 2/100\n",
            "826/826 [==============================] - 2s 2ms/step - loss: 0.4727 - accuracy: 0.7688 - val_loss: 0.4582 - val_accuracy: 0.7930\n",
            "Epoch 3/100\n",
            "826/826 [==============================] - 2s 2ms/step - loss: 0.4687 - accuracy: 0.7762 - val_loss: 0.4441 - val_accuracy: 0.7918\n",
            "Epoch 4/100\n",
            "826/826 [==============================] - 2s 2ms/step - loss: 0.4654 - accuracy: 0.7760 - val_loss: 0.4438 - val_accuracy: 0.7851\n",
            "Epoch 5/100\n",
            "826/826 [==============================] - 2s 2ms/step - loss: 0.4639 - accuracy: 0.7785 - val_loss: 0.4444 - val_accuracy: 0.7869\n",
            "Epoch 6/100\n",
            "826/826 [==============================] - 2s 2ms/step - loss: 0.4614 - accuracy: 0.7794 - val_loss: 0.4479 - val_accuracy: 0.7930\n",
            "Epoch 7/100\n",
            "826/826 [==============================] - 2s 2ms/step - loss: 0.4604 - accuracy: 0.7809 - val_loss: 0.4461 - val_accuracy: 0.7833\n",
            "Epoch 8/100\n",
            "826/826 [==============================] - 2s 2ms/step - loss: 0.4584 - accuracy: 0.7807 - val_loss: 0.4615 - val_accuracy: 0.7797\n",
            "Epoch 9/100\n",
            "826/826 [==============================] - 2s 2ms/step - loss: 0.4576 - accuracy: 0.7804 - val_loss: 0.4569 - val_accuracy: 0.7954\n",
            "Epoch 10/100\n",
            "826/826 [==============================] - 2s 2ms/step - loss: 0.4554 - accuracy: 0.7848 - val_loss: 0.4472 - val_accuracy: 0.7869\n",
            "Epoch 11/100\n",
            "826/826 [==============================] - 2s 2ms/step - loss: 0.4531 - accuracy: 0.7800 - val_loss: 0.4519 - val_accuracy: 0.8051\n",
            "Epoch 12/100\n",
            "826/826 [==============================] - 2s 2ms/step - loss: 0.4530 - accuracy: 0.7831 - val_loss: 0.4410 - val_accuracy: 0.7942\n",
            "Epoch 13/100\n",
            "826/826 [==============================] - 2s 2ms/step - loss: 0.4516 - accuracy: 0.7824 - val_loss: 0.4465 - val_accuracy: 0.7869\n",
            "Epoch 14/100\n",
            "826/826 [==============================] - 2s 2ms/step - loss: 0.4499 - accuracy: 0.7887 - val_loss: 0.4437 - val_accuracy: 0.7930\n",
            "Epoch 15/100\n",
            "826/826 [==============================] - 2s 2ms/step - loss: 0.4508 - accuracy: 0.7872 - val_loss: 0.4544 - val_accuracy: 0.7839\n",
            "Epoch 16/100\n",
            "826/826 [==============================] - 2s 2ms/step - loss: 0.4498 - accuracy: 0.7866 - val_loss: 0.4469 - val_accuracy: 0.7906\n",
            "Epoch 17/100\n",
            "826/826 [==============================] - 2s 2ms/step - loss: 0.4492 - accuracy: 0.7869 - val_loss: 0.4417 - val_accuracy: 0.7900\n",
            "Epoch 18/100\n",
            "826/826 [==============================] - 2s 2ms/step - loss: 0.4480 - accuracy: 0.7878 - val_loss: 0.4485 - val_accuracy: 0.7912\n",
            "Epoch 19/100\n",
            "826/826 [==============================] - 2s 2ms/step - loss: 0.4461 - accuracy: 0.7836 - val_loss: 0.4496 - val_accuracy: 0.7954\n",
            "Epoch 20/100\n",
            "826/826 [==============================] - 2s 2ms/step - loss: 0.4448 - accuracy: 0.7848 - val_loss: 0.4443 - val_accuracy: 0.7912\n",
            "Epoch 21/100\n",
            "826/826 [==============================] - 2s 2ms/step - loss: 0.4458 - accuracy: 0.7859 - val_loss: 0.4460 - val_accuracy: 0.7972\n",
            "Epoch 22/100\n",
            "826/826 [==============================] - 2s 2ms/step - loss: 0.4432 - accuracy: 0.7862 - val_loss: 0.4448 - val_accuracy: 0.7936\n",
            "Epoch 23/100\n",
            "826/826 [==============================] - 2s 2ms/step - loss: 0.4435 - accuracy: 0.7848 - val_loss: 0.4500 - val_accuracy: 0.7839\n",
            "Epoch 24/100\n",
            "826/826 [==============================] - 2s 2ms/step - loss: 0.4427 - accuracy: 0.7896 - val_loss: 0.4507 - val_accuracy: 0.7845\n",
            "Epoch 25/100\n",
            "826/826 [==============================] - 2s 2ms/step - loss: 0.4422 - accuracy: 0.7921 - val_loss: 0.4425 - val_accuracy: 0.7990\n",
            "Epoch 26/100\n",
            "826/826 [==============================] - 2s 2ms/step - loss: 0.4410 - accuracy: 0.7919 - val_loss: 0.4547 - val_accuracy: 0.7996\n",
            "Epoch 27/100\n",
            "826/826 [==============================] - 2s 2ms/step - loss: 0.4409 - accuracy: 0.7886 - val_loss: 0.4451 - val_accuracy: 0.7827\n",
            "Epoch 28/100\n",
            "826/826 [==============================] - 2s 2ms/step - loss: 0.4394 - accuracy: 0.7922 - val_loss: 0.4453 - val_accuracy: 0.7900\n",
            "Epoch 29/100\n",
            "826/826 [==============================] - 2s 2ms/step - loss: 0.4384 - accuracy: 0.7898 - val_loss: 0.4459 - val_accuracy: 0.7875\n",
            "Epoch 30/100\n",
            "826/826 [==============================] - 2s 2ms/step - loss: 0.4364 - accuracy: 0.7949 - val_loss: 0.4537 - val_accuracy: 0.7766\n",
            "Epoch 31/100\n",
            "826/826 [==============================] - 2s 2ms/step - loss: 0.4371 - accuracy: 0.7930 - val_loss: 0.4453 - val_accuracy: 0.7972\n",
            "Epoch 32/100\n",
            "826/826 [==============================] - 2s 2ms/step - loss: 0.4366 - accuracy: 0.7921 - val_loss: 0.4474 - val_accuracy: 0.7893\n",
            "Epoch 33/100\n",
            "826/826 [==============================] - 2s 2ms/step - loss: 0.4362 - accuracy: 0.7915 - val_loss: 0.4509 - val_accuracy: 0.7839\n",
            "Epoch 34/100\n",
            "826/826 [==============================] - 2s 2ms/step - loss: 0.4347 - accuracy: 0.7922 - val_loss: 0.4573 - val_accuracy: 0.7924\n",
            "Epoch 35/100\n",
            "826/826 [==============================] - 2s 2ms/step - loss: 0.4348 - accuracy: 0.7924 - val_loss: 0.4443 - val_accuracy: 0.7821\n",
            "Epoch 36/100\n",
            "826/826 [==============================] - 2s 2ms/step - loss: 0.4320 - accuracy: 0.7980 - val_loss: 0.4427 - val_accuracy: 0.7918\n",
            "Epoch 37/100\n",
            "826/826 [==============================] - 2s 2ms/step - loss: 0.4325 - accuracy: 0.7949 - val_loss: 0.4460 - val_accuracy: 0.7893\n",
            "Epoch 38/100\n",
            "826/826 [==============================] - 2s 2ms/step - loss: 0.4342 - accuracy: 0.7912 - val_loss: 0.4557 - val_accuracy: 0.7924\n",
            "Epoch 39/100\n",
            "826/826 [==============================] - 2s 2ms/step - loss: 0.4317 - accuracy: 0.7934 - val_loss: 0.4476 - val_accuracy: 0.7918\n",
            "Epoch 40/100\n",
            "826/826 [==============================] - 2s 2ms/step - loss: 0.4304 - accuracy: 0.7954 - val_loss: 0.4526 - val_accuracy: 0.7803\n",
            "Epoch 41/100\n",
            "826/826 [==============================] - 2s 2ms/step - loss: 0.4312 - accuracy: 0.7989 - val_loss: 0.4432 - val_accuracy: 0.7972\n",
            "Epoch 42/100\n",
            "826/826 [==============================] - 2s 2ms/step - loss: 0.4296 - accuracy: 0.7927 - val_loss: 0.4424 - val_accuracy: 0.7942\n",
            "Epoch 43/100\n",
            "826/826 [==============================] - 2s 2ms/step - loss: 0.4289 - accuracy: 0.7952 - val_loss: 0.4543 - val_accuracy: 0.7966\n",
            "Epoch 44/100\n",
            "826/826 [==============================] - 2s 2ms/step - loss: 0.4287 - accuracy: 0.7930 - val_loss: 0.4463 - val_accuracy: 0.7936\n",
            "Epoch 45/100\n",
            "826/826 [==============================] - 2s 2ms/step - loss: 0.4272 - accuracy: 0.7956 - val_loss: 0.4448 - val_accuracy: 0.7924\n",
            "Epoch 46/100\n",
            "826/826 [==============================] - 2s 2ms/step - loss: 0.4273 - accuracy: 0.7971 - val_loss: 0.4406 - val_accuracy: 0.8069\n",
            "Epoch 47/100\n",
            "826/826 [==============================] - 2s 2ms/step - loss: 0.4276 - accuracy: 0.7978 - val_loss: 0.4497 - val_accuracy: 0.7887\n",
            "Epoch 48/100\n",
            "826/826 [==============================] - 2s 2ms/step - loss: 0.4271 - accuracy: 0.7952 - val_loss: 0.4465 - val_accuracy: 0.7942\n",
            "Epoch 49/100\n",
            "826/826 [==============================] - 2s 2ms/step - loss: 0.4249 - accuracy: 0.7989 - val_loss: 0.4431 - val_accuracy: 0.7942\n",
            "Epoch 50/100\n",
            "826/826 [==============================] - 2s 2ms/step - loss: 0.4259 - accuracy: 0.7984 - val_loss: 0.4445 - val_accuracy: 0.7881\n",
            "Epoch 51/100\n",
            "826/826 [==============================] - 2s 2ms/step - loss: 0.4241 - accuracy: 0.7968 - val_loss: 0.4534 - val_accuracy: 0.7906\n",
            "Epoch 52/100\n",
            "826/826 [==============================] - 2s 2ms/step - loss: 0.4233 - accuracy: 0.8013 - val_loss: 0.4496 - val_accuracy: 0.7906\n",
            "Epoch 53/100\n",
            "826/826 [==============================] - 2s 2ms/step - loss: 0.4237 - accuracy: 0.7963 - val_loss: 0.4549 - val_accuracy: 0.7869\n",
            "Epoch 54/100\n",
            "826/826 [==============================] - 2s 2ms/step - loss: 0.4219 - accuracy: 0.7974 - val_loss: 0.4518 - val_accuracy: 0.7996\n",
            "Epoch 55/100\n",
            "826/826 [==============================] - 2s 2ms/step - loss: 0.4217 - accuracy: 0.8013 - val_loss: 0.4466 - val_accuracy: 0.7887\n",
            "Epoch 56/100\n",
            "826/826 [==============================] - 2s 2ms/step - loss: 0.4227 - accuracy: 0.7963 - val_loss: 0.4404 - val_accuracy: 0.7912\n",
            "Epoch 57/100\n",
            "826/826 [==============================] - 2s 2ms/step - loss: 0.4222 - accuracy: 0.8004 - val_loss: 0.4444 - val_accuracy: 0.8021\n",
            "Epoch 58/100\n",
            "826/826 [==============================] - 2s 2ms/step - loss: 0.4203 - accuracy: 0.8064 - val_loss: 0.4469 - val_accuracy: 0.7930\n",
            "Epoch 59/100\n",
            "826/826 [==============================] - 2s 2ms/step - loss: 0.4209 - accuracy: 0.8005 - val_loss: 0.4402 - val_accuracy: 0.7954\n",
            "Epoch 60/100\n",
            "826/826 [==============================] - 2s 2ms/step - loss: 0.4186 - accuracy: 0.8049 - val_loss: 0.4519 - val_accuracy: 0.7881\n",
            "Epoch 61/100\n",
            "826/826 [==============================] - 2s 2ms/step - loss: 0.4207 - accuracy: 0.8015 - val_loss: 0.4593 - val_accuracy: 0.7851\n",
            "Epoch 62/100\n",
            "826/826 [==============================] - 2s 2ms/step - loss: 0.4192 - accuracy: 0.8046 - val_loss: 0.4433 - val_accuracy: 0.7930\n",
            "Epoch 63/100\n",
            "826/826 [==============================] - 2s 2ms/step - loss: 0.4180 - accuracy: 0.8046 - val_loss: 0.4430 - val_accuracy: 0.8021\n",
            "Epoch 64/100\n",
            "826/826 [==============================] - 2s 2ms/step - loss: 0.4175 - accuracy: 0.8051 - val_loss: 0.4548 - val_accuracy: 0.7972\n",
            "Epoch 65/100\n",
            "826/826 [==============================] - 2s 2ms/step - loss: 0.4170 - accuracy: 0.8030 - val_loss: 0.4506 - val_accuracy: 0.7990\n",
            "Epoch 66/100\n",
            "826/826 [==============================] - 2s 2ms/step - loss: 0.4177 - accuracy: 0.8045 - val_loss: 0.4403 - val_accuracy: 0.8027\n",
            "Epoch 67/100\n",
            "826/826 [==============================] - 2s 2ms/step - loss: 0.4149 - accuracy: 0.8018 - val_loss: 0.4487 - val_accuracy: 0.7972\n",
            "Epoch 68/100\n",
            "826/826 [==============================] - 2s 2ms/step - loss: 0.4167 - accuracy: 0.8042 - val_loss: 0.4466 - val_accuracy: 0.7942\n",
            "Epoch 69/100\n",
            "826/826 [==============================] - 2s 2ms/step - loss: 0.4153 - accuracy: 0.8096 - val_loss: 0.4486 - val_accuracy: 0.7930\n",
            "Epoch 70/100\n",
            "826/826 [==============================] - 2s 2ms/step - loss: 0.4164 - accuracy: 0.8039 - val_loss: 0.4507 - val_accuracy: 0.7954\n",
            "Epoch 71/100\n",
            "826/826 [==============================] - 2s 2ms/step - loss: 0.4147 - accuracy: 0.8052 - val_loss: 0.4452 - val_accuracy: 0.7900\n",
            "Epoch 72/100\n",
            "826/826 [==============================] - 2s 2ms/step - loss: 0.4146 - accuracy: 0.8058 - val_loss: 0.4435 - val_accuracy: 0.7942\n",
            "Epoch 73/100\n",
            "826/826 [==============================] - 2s 2ms/step - loss: 0.4150 - accuracy: 0.8052 - val_loss: 0.4431 - val_accuracy: 0.7942\n",
            "Epoch 74/100\n",
            "826/826 [==============================] - 2s 2ms/step - loss: 0.4149 - accuracy: 0.8031 - val_loss: 0.4671 - val_accuracy: 0.7851\n",
            "Epoch 75/100\n",
            "826/826 [==============================] - 2s 2ms/step - loss: 0.4123 - accuracy: 0.8072 - val_loss: 0.4427 - val_accuracy: 0.7930\n",
            "Epoch 76/100\n",
            "826/826 [==============================] - 2s 2ms/step - loss: 0.4118 - accuracy: 0.8064 - val_loss: 0.4408 - val_accuracy: 0.8021\n",
            "Epoch 77/100\n",
            "826/826 [==============================] - 2s 2ms/step - loss: 0.4118 - accuracy: 0.8108 - val_loss: 0.4556 - val_accuracy: 0.7869\n",
            "Epoch 78/100\n",
            "826/826 [==============================] - 2s 2ms/step - loss: 0.4114 - accuracy: 0.8092 - val_loss: 0.4433 - val_accuracy: 0.7972\n",
            "Epoch 79/100\n",
            "826/826 [==============================] - 2s 2ms/step - loss: 0.4110 - accuracy: 0.8075 - val_loss: 0.4485 - val_accuracy: 0.7966\n",
            "Epoch 80/100\n",
            "826/826 [==============================] - 2s 2ms/step - loss: 0.4118 - accuracy: 0.8096 - val_loss: 0.4444 - val_accuracy: 0.7863\n",
            "Epoch 81/100\n",
            "826/826 [==============================] - 2s 2ms/step - loss: 0.4098 - accuracy: 0.8071 - val_loss: 0.4533 - val_accuracy: 0.8063\n",
            "Epoch 82/100\n",
            "826/826 [==============================] - 2s 2ms/step - loss: 0.4099 - accuracy: 0.8096 - val_loss: 0.4392 - val_accuracy: 0.7924\n",
            "Epoch 83/100\n",
            "826/826 [==============================] - 2s 2ms/step - loss: 0.4099 - accuracy: 0.8102 - val_loss: 0.4496 - val_accuracy: 0.7869\n",
            "Epoch 84/100\n",
            "826/826 [==============================] - 2s 2ms/step - loss: 0.4092 - accuracy: 0.8049 - val_loss: 0.4444 - val_accuracy: 0.7954\n",
            "Epoch 85/100\n",
            "826/826 [==============================] - 2s 2ms/step - loss: 0.4091 - accuracy: 0.8067 - val_loss: 0.4419 - val_accuracy: 0.7978\n",
            "Epoch 86/100\n",
            "826/826 [==============================] - 2s 2ms/step - loss: 0.4077 - accuracy: 0.8104 - val_loss: 0.4378 - val_accuracy: 0.7948\n",
            "Epoch 87/100\n",
            "826/826 [==============================] - 2s 2ms/step - loss: 0.4075 - accuracy: 0.8092 - val_loss: 0.4532 - val_accuracy: 0.7906\n",
            "Epoch 88/100\n",
            "826/826 [==============================] - 2s 2ms/step - loss: 0.4082 - accuracy: 0.8077 - val_loss: 0.4411 - val_accuracy: 0.8045\n",
            "Epoch 89/100\n",
            "826/826 [==============================] - 2s 2ms/step - loss: 0.4056 - accuracy: 0.8083 - val_loss: 0.4454 - val_accuracy: 0.7942\n",
            "Epoch 90/100\n",
            "826/826 [==============================] - 2s 2ms/step - loss: 0.4044 - accuracy: 0.8116 - val_loss: 0.4517 - val_accuracy: 0.7924\n",
            "Epoch 91/100\n",
            "826/826 [==============================] - 2s 2ms/step - loss: 0.4071 - accuracy: 0.8155 - val_loss: 0.4478 - val_accuracy: 0.7942\n",
            "Epoch 92/100\n",
            "826/826 [==============================] - 2s 2ms/step - loss: 0.4063 - accuracy: 0.8130 - val_loss: 0.4424 - val_accuracy: 0.7906\n",
            "Epoch 93/100\n",
            "826/826 [==============================] - 2s 2ms/step - loss: 0.4060 - accuracy: 0.8113 - val_loss: 0.4409 - val_accuracy: 0.7990\n",
            "Epoch 94/100\n",
            "826/826 [==============================] - 2s 2ms/step - loss: 0.4048 - accuracy: 0.8078 - val_loss: 0.4537 - val_accuracy: 0.7912\n",
            "Epoch 95/100\n",
            "826/826 [==============================] - 2s 2ms/step - loss: 0.4047 - accuracy: 0.8110 - val_loss: 0.4452 - val_accuracy: 0.7893\n",
            "Epoch 96/100\n",
            "826/826 [==============================] - 2s 2ms/step - loss: 0.4053 - accuracy: 0.8108 - val_loss: 0.4417 - val_accuracy: 0.8039\n",
            "Epoch 97/100\n",
            "826/826 [==============================] - 2s 2ms/step - loss: 0.4045 - accuracy: 0.8086 - val_loss: 0.4457 - val_accuracy: 0.7887\n",
            "Epoch 98/100\n",
            "826/826 [==============================] - 2s 2ms/step - loss: 0.4043 - accuracy: 0.8096 - val_loss: 0.4457 - val_accuracy: 0.7875\n",
            "Epoch 99/100\n",
            "826/826 [==============================] - 2s 2ms/step - loss: 0.4032 - accuracy: 0.8140 - val_loss: 0.4486 - val_accuracy: 0.7936\n",
            "Epoch 100/100\n",
            "826/826 [==============================] - 2s 2ms/step - loss: 0.4033 - accuracy: 0.8123 - val_loss: 0.4690 - val_accuracy: 0.7863\n"
          ]
        }
      ]
    },
    {
      "cell_type": "code",
      "metadata": {
        "colab": {
          "base_uri": "https://localhost:8080/"
        },
        "id": "RoqAQHG5IY1q",
        "outputId": "5811ff10-1323-4e87-c124-8e1d22c4b313"
      },
      "source": [
        "pred = model.predict(X_test)\n",
        "pred_class = np.round(pred,0)\n",
        "pred_class=list(pred_class.reshape(-1))\n",
        "print(classification_report(y_test,pred_class))"
      ],
      "execution_count": 31,
      "outputs": [
        {
          "output_type": "stream",
          "name": "stdout",
          "text": [
            "              precision    recall  f1-score   support\n",
            "\n",
            "           0       0.86      0.83      0.84      1033\n",
            "           1       0.57      0.63      0.60       374\n",
            "\n",
            "    accuracy                           0.78      1407\n",
            "   macro avg       0.72      0.73      0.72      1407\n",
            "weighted avg       0.78      0.78      0.78      1407\n",
            "\n"
          ]
        }
      ]
    },
    {
      "cell_type": "code",
      "metadata": {
        "colab": {
          "base_uri": "https://localhost:8080/"
        },
        "id": "nsO49cMYJSAC",
        "outputId": "fe6224ac-0b97-4f02-c396-134f955a7859"
      },
      "source": [
        " # 3. Oversampling minority class (Churn = 1) using SMOTE\n",
        "\n",
        "# Original X,y\n",
        "X = data.drop('Churn',axis=1)\n",
        "y = data['Churn'].copy()\n",
        "print(\"Original : \",X.shape,y.shape)\n",
        "print(y.value_counts())\n",
        "\n",
        "X_train,X_test,y_train,y_test = train_test_split(X,y,test_size=0.2,random_state=5,stratify=y)\n",
        "\n",
        "\n",
        "smote = SMOTE(sampling_strategy='minority')\n",
        "X_train_smote, y_train_smote = smote.fit_resample(X_train,y_train)\n",
        "\n",
        "print(\"Oversampled : \",X_train_smote.shape,y_train_smote.shape)\n",
        "print(pd.DataFrame(y_train_smote).value_counts())"
      ],
      "execution_count": 32,
      "outputs": [
        {
          "output_type": "stream",
          "name": "stdout",
          "text": [
            "Original :  (7032, 19) (7032,)\n",
            "0    5163\n",
            "1    1869\n",
            "Name: Churn, dtype: int64\n",
            "Oversampled :  (8260, 19) (8260,)\n",
            "Churn\n",
            "1        4130\n",
            "0        4130\n",
            "dtype: int64\n"
          ]
        }
      ]
    },
    {
      "cell_type": "code",
      "metadata": {
        "colab": {
          "base_uri": "https://localhost:8080/"
        },
        "id": "AgdG2uNoN-_2",
        "outputId": "538f71d8-e1af-480d-e902-addb9686ec56"
      },
      "source": [
        "history = model.fit(X_train_smote,\n",
        "          y_train_smote,\n",
        "          validation_split=0.2,\n",
        "          batch_size=8,\n",
        "          epochs=100)"
      ],
      "execution_count": 33,
      "outputs": [
        {
          "output_type": "stream",
          "name": "stdout",
          "text": [
            "Epoch 1/100\n",
            "826/826 [==============================] - 2s 2ms/step - loss: 0.4294 - accuracy: 0.7978 - val_loss: 0.4307 - val_accuracy: 0.8275\n",
            "Epoch 2/100\n",
            "826/826 [==============================] - 2s 2ms/step - loss: 0.4238 - accuracy: 0.7993 - val_loss: 0.4902 - val_accuracy: 0.7821\n",
            "Epoch 3/100\n",
            "826/826 [==============================] - 2s 2ms/step - loss: 0.4211 - accuracy: 0.7993 - val_loss: 0.5490 - val_accuracy: 0.7548\n",
            "Epoch 4/100\n",
            "826/826 [==============================] - 2s 2ms/step - loss: 0.4176 - accuracy: 0.8001 - val_loss: 0.5661 - val_accuracy: 0.7663\n",
            "Epoch 5/100\n",
            "826/826 [==============================] - 2s 2ms/step - loss: 0.4172 - accuracy: 0.8002 - val_loss: 0.6046 - val_accuracy: 0.7179\n",
            "Epoch 6/100\n",
            "826/826 [==============================] - 2s 2ms/step - loss: 0.4146 - accuracy: 0.8037 - val_loss: 0.4581 - val_accuracy: 0.8220\n",
            "Epoch 7/100\n",
            "826/826 [==============================] - 2s 2ms/step - loss: 0.4141 - accuracy: 0.8021 - val_loss: 0.5815 - val_accuracy: 0.7379\n",
            "Epoch 8/100\n",
            "826/826 [==============================] - 2s 2ms/step - loss: 0.4126 - accuracy: 0.8061 - val_loss: 0.5196 - val_accuracy: 0.7639\n",
            "Epoch 9/100\n",
            "826/826 [==============================] - 2s 2ms/step - loss: 0.4099 - accuracy: 0.8063 - val_loss: 0.5384 - val_accuracy: 0.7627\n",
            "Epoch 10/100\n",
            "826/826 [==============================] - 2s 2ms/step - loss: 0.4092 - accuracy: 0.8071 - val_loss: 0.5944 - val_accuracy: 0.7409\n",
            "Epoch 11/100\n",
            "826/826 [==============================] - 2s 2ms/step - loss: 0.4085 - accuracy: 0.8054 - val_loss: 0.5286 - val_accuracy: 0.7524\n",
            "Epoch 12/100\n",
            "826/826 [==============================] - 2s 2ms/step - loss: 0.4073 - accuracy: 0.8072 - val_loss: 0.6310 - val_accuracy: 0.7076\n",
            "Epoch 13/100\n",
            "826/826 [==============================] - 2s 2ms/step - loss: 0.4076 - accuracy: 0.8049 - val_loss: 0.5334 - val_accuracy: 0.7676\n",
            "Epoch 14/100\n",
            "826/826 [==============================] - 2s 2ms/step - loss: 0.4066 - accuracy: 0.8078 - val_loss: 0.6423 - val_accuracy: 0.7040\n",
            "Epoch 15/100\n",
            "826/826 [==============================] - 2s 2ms/step - loss: 0.4056 - accuracy: 0.8075 - val_loss: 0.4651 - val_accuracy: 0.8160\n",
            "Epoch 16/100\n",
            "826/826 [==============================] - 2s 2ms/step - loss: 0.4045 - accuracy: 0.8071 - val_loss: 0.6496 - val_accuracy: 0.6943\n",
            "Epoch 17/100\n",
            "826/826 [==============================] - 2s 2ms/step - loss: 0.4045 - accuracy: 0.8125 - val_loss: 0.5297 - val_accuracy: 0.7724\n",
            "Epoch 18/100\n",
            "826/826 [==============================] - 2s 2ms/step - loss: 0.4041 - accuracy: 0.8080 - val_loss: 0.4979 - val_accuracy: 0.7736\n",
            "Epoch 19/100\n",
            "826/826 [==============================] - 2s 2ms/step - loss: 0.4045 - accuracy: 0.8105 - val_loss: 0.7237 - val_accuracy: 0.6689\n",
            "Epoch 20/100\n",
            "826/826 [==============================] - 2s 2ms/step - loss: 0.4035 - accuracy: 0.8102 - val_loss: 0.5330 - val_accuracy: 0.7663\n",
            "Epoch 21/100\n",
            "826/826 [==============================] - 2s 2ms/step - loss: 0.4030 - accuracy: 0.8093 - val_loss: 0.5712 - val_accuracy: 0.7433\n",
            "Epoch 22/100\n",
            "826/826 [==============================] - 2s 2ms/step - loss: 0.4038 - accuracy: 0.8099 - val_loss: 0.5310 - val_accuracy: 0.7603\n",
            "Epoch 23/100\n",
            "826/826 [==============================] - 2s 2ms/step - loss: 0.4020 - accuracy: 0.8074 - val_loss: 0.4567 - val_accuracy: 0.8008\n",
            "Epoch 24/100\n",
            "826/826 [==============================] - 2s 2ms/step - loss: 0.4021 - accuracy: 0.8108 - val_loss: 0.5854 - val_accuracy: 0.7385\n",
            "Epoch 25/100\n",
            "826/826 [==============================] - 2s 2ms/step - loss: 0.4013 - accuracy: 0.8092 - val_loss: 0.5886 - val_accuracy: 0.7294\n",
            "Epoch 26/100\n",
            "826/826 [==============================] - 2s 2ms/step - loss: 0.4017 - accuracy: 0.8084 - val_loss: 0.4817 - val_accuracy: 0.8069\n",
            "Epoch 27/100\n",
            "826/826 [==============================] - 2s 2ms/step - loss: 0.4000 - accuracy: 0.8134 - val_loss: 0.5522 - val_accuracy: 0.7476\n",
            "Epoch 28/100\n",
            "826/826 [==============================] - 2s 2ms/step - loss: 0.4001 - accuracy: 0.8107 - val_loss: 0.4596 - val_accuracy: 0.8057\n",
            "Epoch 29/100\n",
            "826/826 [==============================] - 2s 2ms/step - loss: 0.4017 - accuracy: 0.8087 - val_loss: 0.5131 - val_accuracy: 0.7688\n",
            "Epoch 30/100\n",
            "826/826 [==============================] - 2s 2ms/step - loss: 0.3984 - accuracy: 0.8117 - val_loss: 0.6223 - val_accuracy: 0.7209\n",
            "Epoch 31/100\n",
            "826/826 [==============================] - 2s 2ms/step - loss: 0.3976 - accuracy: 0.8158 - val_loss: 0.4770 - val_accuracy: 0.8008\n",
            "Epoch 32/100\n",
            "826/826 [==============================] - 2s 2ms/step - loss: 0.3977 - accuracy: 0.8096 - val_loss: 0.5581 - val_accuracy: 0.7518\n",
            "Epoch 33/100\n",
            "826/826 [==============================] - 2s 2ms/step - loss: 0.3990 - accuracy: 0.8110 - val_loss: 0.6284 - val_accuracy: 0.7131\n",
            "Epoch 34/100\n",
            "826/826 [==============================] - 2s 2ms/step - loss: 0.3961 - accuracy: 0.8117 - val_loss: 0.3627 - val_accuracy: 0.8717\n",
            "Epoch 35/100\n",
            "826/826 [==============================] - 2s 2ms/step - loss: 0.3988 - accuracy: 0.8113 - val_loss: 0.5866 - val_accuracy: 0.7312\n",
            "Epoch 36/100\n",
            "826/826 [==============================] - 2s 2ms/step - loss: 0.3977 - accuracy: 0.8105 - val_loss: 0.4476 - val_accuracy: 0.8275\n",
            "Epoch 37/100\n",
            "826/826 [==============================] - 2s 2ms/step - loss: 0.3984 - accuracy: 0.8123 - val_loss: 0.5727 - val_accuracy: 0.7524\n",
            "Epoch 38/100\n",
            "826/826 [==============================] - 2s 2ms/step - loss: 0.3998 - accuracy: 0.8119 - val_loss: 0.4992 - val_accuracy: 0.7772\n",
            "Epoch 39/100\n",
            "826/826 [==============================] - 2s 2ms/step - loss: 0.3978 - accuracy: 0.8149 - val_loss: 0.4434 - val_accuracy: 0.8208\n",
            "Epoch 40/100\n",
            "826/826 [==============================] - 2s 2ms/step - loss: 0.3975 - accuracy: 0.8146 - val_loss: 0.5495 - val_accuracy: 0.7518\n",
            "Epoch 41/100\n",
            "826/826 [==============================] - 2s 2ms/step - loss: 0.3968 - accuracy: 0.8143 - val_loss: 0.4735 - val_accuracy: 0.7900\n",
            "Epoch 42/100\n",
            "826/826 [==============================] - 2s 2ms/step - loss: 0.3963 - accuracy: 0.8134 - val_loss: 0.5857 - val_accuracy: 0.7361\n",
            "Epoch 43/100\n",
            "826/826 [==============================] - 2s 2ms/step - loss: 0.3976 - accuracy: 0.8157 - val_loss: 0.5011 - val_accuracy: 0.7718\n",
            "Epoch 44/100\n",
            "826/826 [==============================] - 2s 2ms/step - loss: 0.3962 - accuracy: 0.8136 - val_loss: 0.5001 - val_accuracy: 0.7930\n",
            "Epoch 45/100\n",
            "826/826 [==============================] - 2s 2ms/step - loss: 0.3964 - accuracy: 0.8128 - val_loss: 0.6056 - val_accuracy: 0.7318\n",
            "Epoch 46/100\n",
            "826/826 [==============================] - 2s 2ms/step - loss: 0.3951 - accuracy: 0.8127 - val_loss: 0.6141 - val_accuracy: 0.7209\n",
            "Epoch 47/100\n",
            "826/826 [==============================] - 2s 2ms/step - loss: 0.3952 - accuracy: 0.8125 - val_loss: 0.4813 - val_accuracy: 0.7924\n",
            "Epoch 48/100\n",
            "826/826 [==============================] - 2s 2ms/step - loss: 0.3957 - accuracy: 0.8131 - val_loss: 0.5744 - val_accuracy: 0.7409\n",
            "Epoch 49/100\n",
            "826/826 [==============================] - 2s 2ms/step - loss: 0.3950 - accuracy: 0.8155 - val_loss: 0.5950 - val_accuracy: 0.7324\n",
            "Epoch 50/100\n",
            "826/826 [==============================] - 2s 2ms/step - loss: 0.3947 - accuracy: 0.8137 - val_loss: 0.6296 - val_accuracy: 0.7161\n",
            "Epoch 51/100\n",
            "826/826 [==============================] - 2s 2ms/step - loss: 0.3948 - accuracy: 0.8130 - val_loss: 0.6245 - val_accuracy: 0.7246\n",
            "Epoch 52/100\n",
            "826/826 [==============================] - 2s 2ms/step - loss: 0.3942 - accuracy: 0.8158 - val_loss: 0.4227 - val_accuracy: 0.8238\n",
            "Epoch 53/100\n",
            "826/826 [==============================] - 2s 2ms/step - loss: 0.3944 - accuracy: 0.8107 - val_loss: 0.5224 - val_accuracy: 0.7706\n",
            "Epoch 54/100\n",
            "826/826 [==============================] - 2s 2ms/step - loss: 0.3941 - accuracy: 0.8136 - val_loss: 0.5236 - val_accuracy: 0.7651\n",
            "Epoch 55/100\n",
            "826/826 [==============================] - 2s 2ms/step - loss: 0.3947 - accuracy: 0.8133 - val_loss: 0.6309 - val_accuracy: 0.7070\n",
            "Epoch 56/100\n",
            "826/826 [==============================] - 2s 2ms/step - loss: 0.3934 - accuracy: 0.8158 - val_loss: 0.3919 - val_accuracy: 0.8559\n",
            "Epoch 57/100\n",
            "826/826 [==============================] - 2s 2ms/step - loss: 0.3930 - accuracy: 0.8157 - val_loss: 0.5423 - val_accuracy: 0.7548\n",
            "Epoch 58/100\n",
            "826/826 [==============================] - 2s 2ms/step - loss: 0.3936 - accuracy: 0.8181 - val_loss: 0.5163 - val_accuracy: 0.7996\n",
            "Epoch 59/100\n",
            "826/826 [==============================] - 2s 2ms/step - loss: 0.3933 - accuracy: 0.8178 - val_loss: 0.6826 - val_accuracy: 0.6810\n",
            "Epoch 60/100\n",
            "826/826 [==============================] - 2s 2ms/step - loss: 0.3922 - accuracy: 0.8152 - val_loss: 0.6123 - val_accuracy: 0.7215\n",
            "Epoch 61/100\n",
            "826/826 [==============================] - 2s 2ms/step - loss: 0.3922 - accuracy: 0.8117 - val_loss: 0.5204 - val_accuracy: 0.7785\n",
            "Epoch 62/100\n",
            "826/826 [==============================] - 2s 2ms/step - loss: 0.3927 - accuracy: 0.8163 - val_loss: 0.5420 - val_accuracy: 0.7573\n",
            "Epoch 63/100\n",
            "826/826 [==============================] - 2s 2ms/step - loss: 0.3919 - accuracy: 0.8155 - val_loss: 0.4931 - val_accuracy: 0.7954\n",
            "Epoch 64/100\n",
            "826/826 [==============================] - 2s 2ms/step - loss: 0.3936 - accuracy: 0.8163 - val_loss: 0.4676 - val_accuracy: 0.8154\n",
            "Epoch 65/100\n",
            "826/826 [==============================] - 2s 2ms/step - loss: 0.3931 - accuracy: 0.8161 - val_loss: 0.5352 - val_accuracy: 0.7676\n",
            "Epoch 66/100\n",
            "826/826 [==============================] - 2s 2ms/step - loss: 0.3931 - accuracy: 0.8175 - val_loss: 0.6274 - val_accuracy: 0.7161\n",
            "Epoch 67/100\n",
            "826/826 [==============================] - 2s 2ms/step - loss: 0.3915 - accuracy: 0.8186 - val_loss: 0.4924 - val_accuracy: 0.8015\n",
            "Epoch 68/100\n",
            "826/826 [==============================] - 2s 2ms/step - loss: 0.3917 - accuracy: 0.8148 - val_loss: 0.5718 - val_accuracy: 0.7494\n",
            "Epoch 69/100\n",
            "826/826 [==============================] - 2s 2ms/step - loss: 0.3911 - accuracy: 0.8160 - val_loss: 0.5353 - val_accuracy: 0.7736\n",
            "Epoch 70/100\n",
            "826/826 [==============================] - 2s 2ms/step - loss: 0.3914 - accuracy: 0.8204 - val_loss: 0.4384 - val_accuracy: 0.8378\n",
            "Epoch 71/100\n",
            "826/826 [==============================] - 2s 2ms/step - loss: 0.3915 - accuracy: 0.8158 - val_loss: 0.4859 - val_accuracy: 0.8081\n",
            "Epoch 72/100\n",
            "826/826 [==============================] - 2s 2ms/step - loss: 0.3904 - accuracy: 0.8220 - val_loss: 0.3701 - val_accuracy: 0.8614\n",
            "Epoch 73/100\n",
            "826/826 [==============================] - 2s 2ms/step - loss: 0.3916 - accuracy: 0.8169 - val_loss: 0.4511 - val_accuracy: 0.8093\n",
            "Epoch 74/100\n",
            "826/826 [==============================] - 2s 2ms/step - loss: 0.3910 - accuracy: 0.8195 - val_loss: 0.5653 - val_accuracy: 0.7470\n",
            "Epoch 75/100\n",
            "826/826 [==============================] - 2s 2ms/step - loss: 0.3913 - accuracy: 0.8211 - val_loss: 0.5019 - val_accuracy: 0.8045\n",
            "Epoch 76/100\n",
            "826/826 [==============================] - 2s 2ms/step - loss: 0.3925 - accuracy: 0.8157 - val_loss: 0.6699 - val_accuracy: 0.6937\n",
            "Epoch 77/100\n",
            "826/826 [==============================] - 2s 2ms/step - loss: 0.3907 - accuracy: 0.8202 - val_loss: 0.4611 - val_accuracy: 0.8093\n",
            "Epoch 78/100\n",
            "826/826 [==============================] - 2s 2ms/step - loss: 0.3909 - accuracy: 0.8160 - val_loss: 0.5089 - val_accuracy: 0.8033\n",
            "Epoch 79/100\n",
            "826/826 [==============================] - 2s 2ms/step - loss: 0.3907 - accuracy: 0.8140 - val_loss: 0.4706 - val_accuracy: 0.8190\n",
            "Epoch 80/100\n",
            "826/826 [==============================] - 2s 2ms/step - loss: 0.3891 - accuracy: 0.8167 - val_loss: 0.4397 - val_accuracy: 0.8196\n",
            "Epoch 81/100\n",
            "826/826 [==============================] - 2s 2ms/step - loss: 0.3898 - accuracy: 0.8176 - val_loss: 0.5769 - val_accuracy: 0.7506\n",
            "Epoch 82/100\n",
            "826/826 [==============================] - 2s 2ms/step - loss: 0.3895 - accuracy: 0.8183 - val_loss: 0.5259 - val_accuracy: 0.7924\n",
            "Epoch 83/100\n",
            "826/826 [==============================] - 2s 2ms/step - loss: 0.3903 - accuracy: 0.8181 - val_loss: 0.4480 - val_accuracy: 0.8081\n",
            "Epoch 84/100\n",
            "826/826 [==============================] - 2s 2ms/step - loss: 0.3901 - accuracy: 0.8189 - val_loss: 0.5557 - val_accuracy: 0.7518\n",
            "Epoch 85/100\n",
            "826/826 [==============================] - 2s 2ms/step - loss: 0.3888 - accuracy: 0.8199 - val_loss: 0.6331 - val_accuracy: 0.7191\n",
            "Epoch 86/100\n",
            "826/826 [==============================] - 2s 2ms/step - loss: 0.3905 - accuracy: 0.8164 - val_loss: 0.4729 - val_accuracy: 0.8051\n",
            "Epoch 87/100\n",
            "826/826 [==============================] - 2s 2ms/step - loss: 0.3915 - accuracy: 0.8183 - val_loss: 0.4840 - val_accuracy: 0.8051\n",
            "Epoch 88/100\n",
            "826/826 [==============================] - 2s 2ms/step - loss: 0.3884 - accuracy: 0.8169 - val_loss: 0.4571 - val_accuracy: 0.8281\n",
            "Epoch 89/100\n",
            "826/826 [==============================] - 2s 2ms/step - loss: 0.3893 - accuracy: 0.8198 - val_loss: 0.5942 - val_accuracy: 0.7355\n",
            "Epoch 90/100\n",
            "826/826 [==============================] - 2s 2ms/step - loss: 0.3897 - accuracy: 0.8192 - val_loss: 0.4340 - val_accuracy: 0.8354\n",
            "Epoch 91/100\n",
            "826/826 [==============================] - 2s 2ms/step - loss: 0.3894 - accuracy: 0.8152 - val_loss: 0.6030 - val_accuracy: 0.7349\n",
            "Epoch 92/100\n",
            "826/826 [==============================] - 2s 2ms/step - loss: 0.3878 - accuracy: 0.8208 - val_loss: 0.4406 - val_accuracy: 0.8190\n",
            "Epoch 93/100\n",
            "826/826 [==============================] - 2s 2ms/step - loss: 0.3885 - accuracy: 0.8204 - val_loss: 0.5657 - val_accuracy: 0.7554\n",
            "Epoch 94/100\n",
            "826/826 [==============================] - 2s 2ms/step - loss: 0.3888 - accuracy: 0.8220 - val_loss: 0.5042 - val_accuracy: 0.7778\n",
            "Epoch 95/100\n",
            "826/826 [==============================] - 2s 2ms/step - loss: 0.3893 - accuracy: 0.8179 - val_loss: 0.4127 - val_accuracy: 0.8444\n",
            "Epoch 96/100\n",
            "826/826 [==============================] - 2s 2ms/step - loss: 0.3874 - accuracy: 0.8201 - val_loss: 0.5465 - val_accuracy: 0.7651\n",
            "Epoch 97/100\n",
            "826/826 [==============================] - 2s 2ms/step - loss: 0.3876 - accuracy: 0.8204 - val_loss: 0.4856 - val_accuracy: 0.8117\n",
            "Epoch 98/100\n",
            "826/826 [==============================] - 2s 2ms/step - loss: 0.3871 - accuracy: 0.8199 - val_loss: 0.5933 - val_accuracy: 0.7433\n",
            "Epoch 99/100\n",
            "826/826 [==============================] - 2s 2ms/step - loss: 0.3881 - accuracy: 0.8190 - val_loss: 0.5697 - val_accuracy: 0.7639\n",
            "Epoch 100/100\n",
            "826/826 [==============================] - 2s 2ms/step - loss: 0.3884 - accuracy: 0.8166 - val_loss: 0.5831 - val_accuracy: 0.7349\n"
          ]
        }
      ]
    },
    {
      "cell_type": "code",
      "metadata": {
        "colab": {
          "base_uri": "https://localhost:8080/"
        },
        "id": "3tr-I35MOHev",
        "outputId": "1f5ffce9-0006-4d3f-f20c-f95c61789f4b"
      },
      "source": [
        "pred = model.predict(X_test)\n",
        "pred_class = np.round(pred,0)\n",
        "pred_class=list(pred_class.reshape(-1))\n",
        "print(classification_report(y_test,pred_class))"
      ],
      "execution_count": 34,
      "outputs": [
        {
          "output_type": "stream",
          "name": "stdout",
          "text": [
            "              precision    recall  f1-score   support\n",
            "\n",
            "           0       0.85      0.84      0.85      1033\n",
            "           1       0.58      0.59      0.58       374\n",
            "\n",
            "    accuracy                           0.78      1407\n",
            "   macro avg       0.71      0.72      0.71      1407\n",
            "weighted avg       0.78      0.78      0.78      1407\n",
            "\n"
          ]
        }
      ]
    },
    {
      "cell_type": "code",
      "metadata": {
        "id": "dqpnT4zaR8x6"
      },
      "source": [
        ""
      ],
      "execution_count": 34,
      "outputs": []
    }
  ]
}