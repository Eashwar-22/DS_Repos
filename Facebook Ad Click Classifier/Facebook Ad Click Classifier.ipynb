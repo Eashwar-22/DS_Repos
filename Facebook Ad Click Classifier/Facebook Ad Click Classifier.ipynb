{
 "cells": [
  {
   "cell_type": "markdown",
   "id": "95932531",
   "metadata": {},
   "source": [
    "### Anaylsing and predicting Click activity by one user\n",
    "\n",
    "> Clicked - Target variable; whether the user will click the ad or not.<br>\n",
    "> Names,emails,country - Highly cardinal categorical columns, need to be removed or replaced<br>\n",
    "> Time Spent on Site - Minutes spent by the user in one session.<br>\n",
    "> Salary - Salary of user<br>\n"
   ]
  },
  {
   "cell_type": "code",
   "execution_count": null,
   "id": "e4c883b1",
   "metadata": {},
   "outputs": [],
   "source": [
    "import pandas as pd\n",
    "import pycountry_convert as pc\n",
    "\n",
    "import seaborn as sns\n",
    "sns.set_theme(style='whitegrid')\n",
    "import matplotlib.pyplot as plt\n",
    "\n",
    "\n",
    "from sklearn.preprocessing import MinMaxScaler\n",
    "from sklearn.model_selection import train_test_split\n",
    "from sklearn.linear_model import LogisticRegression\n",
    "from sklearn.metrics import accuracy_score,confusion_matrix,classification_report"
   ]
  },
  {
   "cell_type": "code",
   "execution_count": null,
   "id": "bb7778f2",
   "metadata": {},
   "outputs": [],
   "source": [
    "df_orig = pd.read_csv('Facebook_Ads_2.csv',encoding='latin1')\n",
    "df_orig.head()"
   ]
  },
  {
   "cell_type": "markdown",
   "id": "f94ba64e",
   "metadata": {},
   "source": [
    "### Use Continent instead of highly cardinal Country  and re-map unidentified countries manually\n",
    "\n"
   ]
  },
  {
   "cell_type": "code",
   "execution_count": null,
   "id": "c9e1f42e",
   "metadata": {},
   "outputs": [],
   "source": [
    "df_orig.nunique()"
   ]
  },
  {
   "cell_type": "code",
   "execution_count": null,
   "id": "91be0633",
   "metadata": {},
   "outputs": [],
   "source": [
    "def country_to_continent(country_name):\n",
    "    try:\n",
    "        country_alpha2 = pc.country_name_to_country_alpha2(country_name)\n",
    "        country_continent_code = pc.country_alpha2_to_continent_code(country_alpha2)\n",
    "        country_continent_name = pc.convert_continent_code_to_continent_name(country_continent_code)\n",
    "        return country_continent_name\n",
    "    except:\n",
    "        return \"Unidentified\"\n",
    "\n",
    "df  = df_orig.copy()\n",
    "df['Continent'] = df['Country'].apply(country_to_continent)\n",
    "df\n"
   ]
  },
  {
   "cell_type": "code",
   "execution_count": null,
   "id": "7d4555af",
   "metadata": {},
   "outputs": [],
   "source": [
    "df.groupby('Continent').agg({'Country':'nunique'})"
   ]
  },
  {
   "cell_type": "markdown",
   "id": "0b697f94",
   "metadata": {},
   "source": [
    "Replace Unidentified Continents by manually mapping the countries"
   ]
  },
  {
   "cell_type": "code",
   "execution_count": null,
   "id": "a6928441",
   "metadata": {},
   "outputs": [],
   "source": [
    "list_countries = list(df[df['Continent']=='Unidentified'].Country.unique())\n",
    "list_countries"
   ]
  },
  {
   "cell_type": "code",
   "execution_count": null,
   "id": "017e747c",
   "metadata": {},
   "outputs": [],
   "source": [
    "list_continents=['North America','Asia','Africa','North America','Antarctica','Africa','North America','Antarctica',\n",
    "                 'North America','Africa','Europe','Antarctica','Antarctica','Asia']\n",
    "dict_to_map_countries = dict(zip(list_countries,list_continents))\n",
    "\n",
    "def map_country_continent(X):\n",
    "    if X[1]=='Unidentified':\n",
    "        X[1]=X[0].map(dict_to_map_countries)\n",
    "    return X[1]\n",
    "\n",
    "df.loc[df['Continent']=='Unidentified','Continent'] = \\\n",
    "      df.loc[df['Continent']=='Unidentified','Country'].map(dict_to_map_countries)\n",
    "df.groupby('Continent').agg({'Country':'nunique'})"
   ]
  },
  {
   "cell_type": "markdown",
   "id": "8b5ebeac",
   "metadata": {},
   "source": [
    "Now we have all 7 continents identified. We can use this variable instead of the highly cardinal Country variable."
   ]
  },
  {
   "cell_type": "markdown",
   "id": "f3a7c6e4",
   "metadata": {},
   "source": [
    "### EDA"
   ]
  },
  {
   "cell_type": "code",
   "execution_count": null,
   "id": "694c09a4",
   "metadata": {},
   "outputs": [],
   "source": [
    "df.head()"
   ]
  },
  {
   "cell_type": "code",
   "execution_count": null,
   "id": "24afa750",
   "metadata": {},
   "outputs": [],
   "source": [
    "# Missing values in data\n",
    "sns.heatmap(df.isnull())"
   ]
  },
  {
   "cell_type": "code",
   "execution_count": null,
   "id": "81b77a67",
   "metadata": {},
   "outputs": [],
   "source": [
    "plt.figure(figsize=(12,20))\n",
    "plt.subplot(511)\n",
    "sns.histplot(data=df,x='Salary')\n",
    "plt.subplot(512)\n",
    "sns.histplot(data=df,x='Salary',hue='Clicked')\n",
    "plt.subplot(513)\n",
    "sns.histplot(data=df,x='Time Spent on Site')\n",
    "plt.subplot(514)\n",
    "sns.histplot(data=df,x='Time Spent on Site',hue='Clicked')\n",
    "plt.subplot(515)\n",
    "sns.countplot(data=df,x='Continent',hue='Clicked')\n"
   ]
  },
  {
   "cell_type": "code",
   "execution_count": null,
   "id": "9ffcd5f1",
   "metadata": {},
   "outputs": [],
   "source": [
    "plt.figure(figsize=(10,8))\n",
    "sns.scatterplot(data=df,x='Time Spent on Site',y='Salary',hue='Clicked')"
   ]
  },
  {
   "cell_type": "markdown",
   "id": "ba585065",
   "metadata": {},
   "source": [
    "### Prepare final dataset"
   ]
  },
  {
   "cell_type": "code",
   "execution_count": null,
   "id": "05a76670",
   "metadata": {},
   "outputs": [],
   "source": [
    "# Prepare Final Processed data\n",
    "\n",
    "continents = pd.get_dummies(df['Continent'],drop_first=True)\n",
    "processed_data = df.drop(columns=['Country','Names','emails','Continent']).join(continents)\n",
    "\n",
    "processed_data"
   ]
  },
  {
   "cell_type": "code",
   "execution_count": null,
   "id": "c8c471c3",
   "metadata": {},
   "outputs": [],
   "source": [
    "X = processed_data.drop(columns='Clicked').values\n",
    "y = processed_data['Clicked'].values.reshape(-1,1)\n",
    "\n",
    "min_max = MinMaxScaler()\n",
    "X=min_max.fit_transform(X)\n",
    "X.shape,y.shape"
   ]
  },
  {
   "cell_type": "markdown",
   "id": "b3e2cf07",
   "metadata": {},
   "source": [
    "### Model - Logistic regression"
   ]
  },
  {
   "cell_type": "code",
   "execution_count": null,
   "id": "6684d007",
   "metadata": {},
   "outputs": [],
   "source": [
    "X_train, X_test, y_train, y_test = train_test_split(X, y, test_size=0.2, random_state=10)\n",
    "X_train.shape,X_test.shape,y_train.shape,y_test.shape"
   ]
  },
  {
   "cell_type": "code",
   "execution_count": null,
   "id": "ec91cca6",
   "metadata": {},
   "outputs": [],
   "source": [
    "lr=LogisticRegression(random_state=0)\n",
    "lr.fit(X_train,y_train)\n",
    "y_pred_train = lr.predict(X_train)\n",
    "y_pred_test = lr.predict(X_test)"
   ]
  },
  {
   "cell_type": "code",
   "execution_count": null,
   "id": "72198374",
   "metadata": {},
   "outputs": [],
   "source": [
    "plt.figure(figsize=(10,10))\n",
    "plt.subplot(211)\n",
    "plt.title('Train set')\n",
    "sns.heatmap(confusion_matrix(y_pred_train,y_train),annot=True)\n",
    "plt.subplot(212)\n",
    "plt.title('Test set')\n",
    "sns.heatmap(confusion_matrix(y_pred_test,y_test),annot=True)\n"
   ]
  },
  {
   "cell_type": "code",
   "execution_count": null,
   "id": "2eeead7d",
   "metadata": {},
   "outputs": [],
   "source": [
    "print(\"Train set\\n\")\n",
    "print(classification_report(y_pred_train,y_train))"
   ]
  },
  {
   "cell_type": "code",
   "execution_count": null,
   "id": "bb242833",
   "metadata": {},
   "outputs": [],
   "source": [
    "print(\"Test set\\n\")\n",
    "print(classification_report(y_pred_test,y_test))"
   ]
  },
  {
   "cell_type": "code",
   "execution_count": null,
   "id": "ebf02362",
   "metadata": {},
   "outputs": [],
   "source": []
  }
 ],
 "metadata": {
  "kernelspec": {
   "display_name": "ml_env",
   "language": "python",
   "name": "ml_env"
  },
  "language_info": {
   "codemirror_mode": {
    "name": "ipython",
    "version": 3
   },
   "file_extension": ".py",
   "mimetype": "text/x-python",
   "name": "python",
   "nbconvert_exporter": "python",
   "pygments_lexer": "ipython3",
   "version": "3.7.11"
  }
 },
 "nbformat": 4,
 "nbformat_minor": 5
}
