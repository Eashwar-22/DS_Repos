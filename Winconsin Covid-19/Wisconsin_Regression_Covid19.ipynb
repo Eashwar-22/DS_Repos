{
 "cells": [
  {
   "cell_type": "code",
   "execution_count": 1,
   "id": "13d034e0",
   "metadata": {},
   "outputs": [],
   "source": [
    "import pandas as pd\n",
    "import numpy as np\n",
    "import matplotlib.pyplot as plt\n",
    "%matplotlib inline\n",
    "import seaborn as sns\n",
    "\n",
    "\n",
    "from sklearn.linear_model import LinearRegression\n",
    "from sklearn.model_selection import train_test_split,permutation_test_score,cross_val_score\n",
    "from sklearn.metrics import r2_score,mean_absolute_error"
   ]
  },
  {
   "cell_type": "markdown",
   "id": "56aa115e",
   "metadata": {},
   "source": [
    "### Wisconsin's County x Day level Covid-19 data (original dataset)\n",
    "\n",
    "Source  : https://data.dhsgis.wi.gov/datasets/wi-dhs::covid-19-data-by-county-v2/about <br>\n",
    "\n",
    "Columns : \n",
    "\n",
    "- **County**                 : County name\n",
    "- **Date**                   : Date\n",
    "- **avg_pos_cases_per_week** : Average number of positive cases per week\n",
    "- **new_deaths**             : Number of new deaths\n"
   ]
  },
  {
   "cell_type": "code",
   "execution_count": 2,
   "id": "b2b2eaaa",
   "metadata": {},
   "outputs": [
    {
     "data": {
      "text/html": [
       "<div>\n",
       "<style scoped>\n",
       "    .dataframe tbody tr th:only-of-type {\n",
       "        vertical-align: middle;\n",
       "    }\n",
       "\n",
       "    .dataframe tbody tr th {\n",
       "        vertical-align: top;\n",
       "    }\n",
       "\n",
       "    .dataframe thead th {\n",
       "        text-align: right;\n",
       "    }\n",
       "</style>\n",
       "<table border=\"1\" class=\"dataframe\">\n",
       "  <thead>\n",
       "    <tr style=\"text-align: right;\">\n",
       "      <th></th>\n",
       "      <th>County</th>\n",
       "      <th>Date</th>\n",
       "      <th>avg_pos_cases_per_week</th>\n",
       "      <th>new_deaths</th>\n",
       "    </tr>\n",
       "  </thead>\n",
       "  <tbody>\n",
       "    <tr>\n",
       "      <th>0</th>\n",
       "      <td>Buffalo</td>\n",
       "      <td>2020-01-22</td>\n",
       "      <td>0.0</td>\n",
       "      <td>0</td>\n",
       "    </tr>\n",
       "    <tr>\n",
       "      <th>1</th>\n",
       "      <td>Douglas</td>\n",
       "      <td>2020-01-22</td>\n",
       "      <td>0.0</td>\n",
       "      <td>0</td>\n",
       "    </tr>\n",
       "    <tr>\n",
       "      <th>2</th>\n",
       "      <td>Iron</td>\n",
       "      <td>2020-01-22</td>\n",
       "      <td>0.0</td>\n",
       "      <td>0</td>\n",
       "    </tr>\n",
       "    <tr>\n",
       "      <th>3</th>\n",
       "      <td>Jackson</td>\n",
       "      <td>2020-01-22</td>\n",
       "      <td>0.0</td>\n",
       "      <td>0</td>\n",
       "    </tr>\n",
       "    <tr>\n",
       "      <th>4</th>\n",
       "      <td>Langlade</td>\n",
       "      <td>2020-01-22</td>\n",
       "      <td>0.0</td>\n",
       "      <td>0</td>\n",
       "    </tr>\n",
       "  </tbody>\n",
       "</table>\n",
       "</div>"
      ],
      "text/plain": [
       "     County       Date  avg_pos_cases_per_week  new_deaths\n",
       "0   Buffalo 2020-01-22                     0.0           0\n",
       "1   Douglas 2020-01-22                     0.0           0\n",
       "2      Iron 2020-01-22                     0.0           0\n",
       "3   Jackson 2020-01-22                     0.0           0\n",
       "4  Langlade 2020-01-22                     0.0           0"
      ]
     },
     "execution_count": 2,
     "metadata": {},
     "output_type": "execute_result"
    }
   ],
   "source": [
    "# Filter necessary columns\n",
    "\n",
    "data = pd.read_csv('COVID19-Historical-V2-CNTY.csv')\n",
    "data=data[['GEOName','Date','POS_7DAYAVG_CP','DTH_NEW_CP']]\n",
    "data['Date']=pd.to_datetime(data['Date'])\n",
    "data=data.replace(-999,0)\n",
    "data.columns=['County','Date','avg_pos_cases_per_week','new_deaths']\n",
    "data.head()\n"
   ]
  },
  {
   "cell_type": "code",
   "execution_count": 3,
   "id": "f112f01d",
   "metadata": {},
   "outputs": [
    {
     "data": {
      "text/html": [
       "<div>\n",
       "<style scoped>\n",
       "    .dataframe tbody tr th:only-of-type {\n",
       "        vertical-align: middle;\n",
       "    }\n",
       "\n",
       "    .dataframe tbody tr th {\n",
       "        vertical-align: top;\n",
       "    }\n",
       "\n",
       "    .dataframe thead th {\n",
       "        text-align: right;\n",
       "    }\n",
       "</style>\n",
       "<table border=\"1\" class=\"dataframe\">\n",
       "  <thead>\n",
       "    <tr style=\"text-align: right;\">\n",
       "      <th></th>\n",
       "      <th>avg_pos_cases_per_week</th>\n",
       "      <th>new_deaths</th>\n",
       "    </tr>\n",
       "  </thead>\n",
       "  <tbody>\n",
       "    <tr>\n",
       "      <th>count</th>\n",
       "      <td>47016.000000</td>\n",
       "      <td>47016.000000</td>\n",
       "    </tr>\n",
       "    <tr>\n",
       "      <th>mean</th>\n",
       "      <td>18.950769</td>\n",
       "      <td>0.162158</td>\n",
       "    </tr>\n",
       "    <tr>\n",
       "      <th>std</th>\n",
       "      <td>50.106888</td>\n",
       "      <td>0.831294</td>\n",
       "    </tr>\n",
       "    <tr>\n",
       "      <th>min</th>\n",
       "      <td>0.000000</td>\n",
       "      <td>0.000000</td>\n",
       "    </tr>\n",
       "    <tr>\n",
       "      <th>25%</th>\n",
       "      <td>0.570000</td>\n",
       "      <td>0.000000</td>\n",
       "    </tr>\n",
       "    <tr>\n",
       "      <th>50%</th>\n",
       "      <td>4.140000</td>\n",
       "      <td>0.000000</td>\n",
       "    </tr>\n",
       "    <tr>\n",
       "      <th>75%</th>\n",
       "      <td>16.570000</td>\n",
       "      <td>0.000000</td>\n",
       "    </tr>\n",
       "    <tr>\n",
       "      <th>max</th>\n",
       "      <td>1018.430000</td>\n",
       "      <td>62.000000</td>\n",
       "    </tr>\n",
       "  </tbody>\n",
       "</table>\n",
       "</div>"
      ],
      "text/plain": [
       "       avg_pos_cases_per_week    new_deaths\n",
       "count            47016.000000  47016.000000\n",
       "mean                18.950769      0.162158\n",
       "std                 50.106888      0.831294\n",
       "min                  0.000000      0.000000\n",
       "25%                  0.570000      0.000000\n",
       "50%                  4.140000      0.000000\n",
       "75%                 16.570000      0.000000\n",
       "max               1018.430000     62.000000"
      ]
     },
     "execution_count": 3,
     "metadata": {},
     "output_type": "execute_result"
    }
   ],
   "source": [
    "data.describe()"
   ]
  },
  {
   "cell_type": "code",
   "execution_count": 4,
   "id": "44bfa5c2",
   "metadata": {},
   "outputs": [
    {
     "name": "stdout",
     "output_type": "stream",
     "text": [
      "<class 'pandas.core.frame.DataFrame'>\n",
      "RangeIndex: 47016 entries, 0 to 47015\n",
      "Data columns (total 4 columns):\n",
      " #   Column                  Non-Null Count  Dtype         \n",
      "---  ------                  --------------  -----         \n",
      " 0   County                  47016 non-null  object        \n",
      " 1   Date                    47016 non-null  datetime64[ns]\n",
      " 2   avg_pos_cases_per_week  47016 non-null  float64       \n",
      " 3   new_deaths              47016 non-null  int64         \n",
      "dtypes: datetime64[ns](1), float64(1), int64(1), object(1)\n",
      "memory usage: 1.4+ MB\n"
     ]
    }
   ],
   "source": [
    "data.info()"
   ]
  },
  {
   "cell_type": "code",
   "execution_count": 5,
   "id": "955b2dc0",
   "metadata": {},
   "outputs": [
    {
     "data": {
      "text/plain": [
       "County                    0\n",
       "Date                      0\n",
       "avg_pos_cases_per_week    0\n",
       "new_deaths                0\n",
       "dtype: int64"
      ]
     },
     "execution_count": 5,
     "metadata": {},
     "output_type": "execute_result"
    }
   ],
   "source": [
    "# Check for missing values in each column\n",
    "\n",
    "data.isnull().sum()"
   ]
  },
  {
   "cell_type": "code",
   "execution_count": 6,
   "id": "09ac58ae",
   "metadata": {},
   "outputs": [
    {
     "name": "stdout",
     "output_type": "stream",
     "text": [
      "Distinct dates         :  653\n",
      "Earliest date          :  2020-01-22\n",
      "Latest date            :  2021-11-04\n",
      "\n",
      "\n",
      "\n",
      "Quarters in 2020       :  [1 2 3 4]\n",
      "Months in 2020         :  [ 1  2  3  4  5  6  7  8  9 10 11 12]\n",
      "Missing Weeks in 2020  :  [1, 2, 3]\n",
      "No. of weeks in 2020 with data :  50\n",
      "\n",
      "\n",
      "\n",
      "Quarters in 2021       :  [1 2 3 4]\n",
      "Months in 2021         :  [ 1  2  3  4  5  6  7  8  9 10 11]\n",
      "Missing Weeks in 2021  :  [45, 46, 47, 48, 49, 50, 51, 52]\n",
      "No. of weeks in 2021 with data :  45\n"
     ]
    }
   ],
   "source": [
    "# Date info\n",
    "\n",
    "def weeks(series):\n",
    "    weeks=[i for i in range(1,54) if i not in series]\n",
    "    return weeks\n",
    "\n",
    "print(\"Distinct dates         : \",data.Date.nunique())\n",
    "print(\"Earliest date          : \",data.Date.dt.date.min())\n",
    "print(\"Latest date            : \",data.Date.dt.date.max())\n",
    "\n",
    "print('\\n\\n')\n",
    "print(\"Quarters in 2020       : \",data[data.Date.dt.year==2020].Date.dt.quarter.unique())\n",
    "print(\"Months in 2020         : \",data[data.Date.dt.year==2020].Date.dt.month.unique())\n",
    "print(\"Missing Weeks in 2020  : \",weeks(data[data.Date.dt.year==2020].Date.dt.isocalendar().week.unique()))\n",
    "print(\"No. of weeks in 2020 with data : \",data[data.Date.dt.year==2020].Date.dt.isocalendar().week.nunique())\n",
    "\n",
    "print('\\n\\n')\n",
    "print(\"Quarters in 2021       : \",data[data.Date.dt.year==2021].Date.dt.quarter.unique())\n",
    "print(\"Months in 2021         : \",data[data.Date.dt.year==2021].Date.dt.month.unique())\n",
    "print(\"Missing Weeks in 2021  : \",weeks(data[data.Date.dt.year==2021].Date.dt.isocalendar().week.unique()))\n",
    "print(\"No. of weeks in 2021 with data : \",data[data.Date.dt.year==2021].Date.dt.isocalendar().week.nunique())\n",
    "\n"
   ]
  },
  {
   "cell_type": "markdown",
   "id": "cce61df0",
   "metadata": {},
   "source": [
    "### Estimating number of new deaths after 2 weeks for every County x Date"
   ]
  },
  {
   "cell_type": "code",
   "execution_count": 7,
   "id": "c55a9eef",
   "metadata": {},
   "outputs": [
    {
     "data": {
      "text/html": [
       "<div>\n",
       "<style scoped>\n",
       "    .dataframe tbody tr th:only-of-type {\n",
       "        vertical-align: middle;\n",
       "    }\n",
       "\n",
       "    .dataframe tbody tr th {\n",
       "        vertical-align: top;\n",
       "    }\n",
       "\n",
       "    .dataframe thead th {\n",
       "        text-align: right;\n",
       "    }\n",
       "</style>\n",
       "<table border=\"1\" class=\"dataframe\">\n",
       "  <thead>\n",
       "    <tr style=\"text-align: right;\">\n",
       "      <th></th>\n",
       "      <th>County</th>\n",
       "      <th>Date</th>\n",
       "      <th>avg_pos_cases_per_week</th>\n",
       "      <th>new_deaths</th>\n",
       "    </tr>\n",
       "  </thead>\n",
       "  <tbody>\n",
       "    <tr>\n",
       "      <th>Buffalo_2020-01-08</th>\n",
       "      <td>Buffalo</td>\n",
       "      <td>2020-01-08</td>\n",
       "      <td>0.00</td>\n",
       "      <td>0</td>\n",
       "    </tr>\n",
       "    <tr>\n",
       "      <th>Douglas_2020-01-08</th>\n",
       "      <td>Douglas</td>\n",
       "      <td>2020-01-08</td>\n",
       "      <td>0.00</td>\n",
       "      <td>0</td>\n",
       "    </tr>\n",
       "    <tr>\n",
       "      <th>Iron_2020-01-08</th>\n",
       "      <td>Iron</td>\n",
       "      <td>2020-01-08</td>\n",
       "      <td>0.00</td>\n",
       "      <td>0</td>\n",
       "    </tr>\n",
       "    <tr>\n",
       "      <th>Jackson_2020-01-08</th>\n",
       "      <td>Jackson</td>\n",
       "      <td>2020-01-08</td>\n",
       "      <td>0.00</td>\n",
       "      <td>0</td>\n",
       "    </tr>\n",
       "    <tr>\n",
       "      <th>Langlade_2020-01-08</th>\n",
       "      <td>Langlade</td>\n",
       "      <td>2020-01-08</td>\n",
       "      <td>0.00</td>\n",
       "      <td>0</td>\n",
       "    </tr>\n",
       "    <tr>\n",
       "      <th>...</th>\n",
       "      <td>...</td>\n",
       "      <td>...</td>\n",
       "      <td>...</td>\n",
       "      <td>...</td>\n",
       "    </tr>\n",
       "    <tr>\n",
       "      <th>Polk_2021-10-21</th>\n",
       "      <td>Polk</td>\n",
       "      <td>2021-10-21</td>\n",
       "      <td>40.71</td>\n",
       "      <td>0</td>\n",
       "    </tr>\n",
       "    <tr>\n",
       "      <th>Milwaukee_2021-10-21</th>\n",
       "      <td>Milwaukee</td>\n",
       "      <td>2021-10-21</td>\n",
       "      <td>229.14</td>\n",
       "      <td>0</td>\n",
       "    </tr>\n",
       "    <tr>\n",
       "      <th>Pepin_2021-10-21</th>\n",
       "      <td>Pepin</td>\n",
       "      <td>2021-10-21</td>\n",
       "      <td>4.00</td>\n",
       "      <td>0</td>\n",
       "    </tr>\n",
       "    <tr>\n",
       "      <th>Shawano_2021-10-21</th>\n",
       "      <td>Shawano</td>\n",
       "      <td>2021-10-21</td>\n",
       "      <td>19.71</td>\n",
       "      <td>0</td>\n",
       "    </tr>\n",
       "    <tr>\n",
       "      <th>Sheboygan_2021-10-21</th>\n",
       "      <td>Sheboygan</td>\n",
       "      <td>2021-10-21</td>\n",
       "      <td>62.00</td>\n",
       "      <td>0</td>\n",
       "    </tr>\n",
       "  </tbody>\n",
       "</table>\n",
       "<p>47016 rows × 4 columns</p>\n",
       "</div>"
      ],
      "text/plain": [
       "                         County       Date  avg_pos_cases_per_week  new_deaths\n",
       "Buffalo_2020-01-08      Buffalo 2020-01-08                    0.00           0\n",
       "Douglas_2020-01-08      Douglas 2020-01-08                    0.00           0\n",
       "Iron_2020-01-08            Iron 2020-01-08                    0.00           0\n",
       "Jackson_2020-01-08      Jackson 2020-01-08                    0.00           0\n",
       "Langlade_2020-01-08    Langlade 2020-01-08                    0.00           0\n",
       "...                         ...        ...                     ...         ...\n",
       "Polk_2021-10-21            Polk 2021-10-21                   40.71           0\n",
       "Milwaukee_2021-10-21  Milwaukee 2021-10-21                  229.14           0\n",
       "Pepin_2021-10-21          Pepin 2021-10-21                    4.00           0\n",
       "Shawano_2021-10-21      Shawano 2021-10-21                   19.71           0\n",
       "Sheboygan_2021-10-21  Sheboygan 2021-10-21                   62.00           0\n",
       "\n",
       "[47016 rows x 4 columns]"
      ]
     },
     "execution_count": 7,
     "metadata": {},
     "output_type": "execute_result"
    }
   ],
   "source": [
    "deaths=data.copy()\n",
    "deaths['Date']=deaths['Date']-pd.Timedelta(days=14)\n",
    "deaths=deaths.set_index(deaths['County']+\"_\"+deaths['Date'].astype(str))\n",
    "deaths"
   ]
  },
  {
   "cell_type": "code",
   "execution_count": 8,
   "id": "1af9bf55",
   "metadata": {},
   "outputs": [
    {
     "data": {
      "text/html": [
       "<div>\n",
       "<style scoped>\n",
       "    .dataframe tbody tr th:only-of-type {\n",
       "        vertical-align: middle;\n",
       "    }\n",
       "\n",
       "    .dataframe tbody tr th {\n",
       "        vertical-align: top;\n",
       "    }\n",
       "\n",
       "    .dataframe thead th {\n",
       "        text-align: right;\n",
       "    }\n",
       "</style>\n",
       "<table border=\"1\" class=\"dataframe\">\n",
       "  <thead>\n",
       "    <tr style=\"text-align: right;\">\n",
       "      <th></th>\n",
       "      <th>County</th>\n",
       "      <th>Date</th>\n",
       "      <th>avg_pos_cases_per_week</th>\n",
       "      <th>new_deaths</th>\n",
       "      <th>new_deaths_in_2_weeks</th>\n",
       "    </tr>\n",
       "  </thead>\n",
       "  <tbody>\n",
       "    <tr>\n",
       "      <th>Buffalo_2020-01-22</th>\n",
       "      <td>Buffalo</td>\n",
       "      <td>2020-01-22</td>\n",
       "      <td>0.00</td>\n",
       "      <td>0</td>\n",
       "      <td>0.0</td>\n",
       "    </tr>\n",
       "    <tr>\n",
       "      <th>Douglas_2020-01-22</th>\n",
       "      <td>Douglas</td>\n",
       "      <td>2020-01-22</td>\n",
       "      <td>0.00</td>\n",
       "      <td>0</td>\n",
       "      <td>0.0</td>\n",
       "    </tr>\n",
       "    <tr>\n",
       "      <th>Iron_2020-01-22</th>\n",
       "      <td>Iron</td>\n",
       "      <td>2020-01-22</td>\n",
       "      <td>0.00</td>\n",
       "      <td>0</td>\n",
       "      <td>0.0</td>\n",
       "    </tr>\n",
       "    <tr>\n",
       "      <th>Jackson_2020-01-22</th>\n",
       "      <td>Jackson</td>\n",
       "      <td>2020-01-22</td>\n",
       "      <td>0.00</td>\n",
       "      <td>0</td>\n",
       "      <td>0.0</td>\n",
       "    </tr>\n",
       "    <tr>\n",
       "      <th>Langlade_2020-01-22</th>\n",
       "      <td>Langlade</td>\n",
       "      <td>2020-01-22</td>\n",
       "      <td>0.00</td>\n",
       "      <td>0</td>\n",
       "      <td>0.0</td>\n",
       "    </tr>\n",
       "    <tr>\n",
       "      <th>...</th>\n",
       "      <td>...</td>\n",
       "      <td>...</td>\n",
       "      <td>...</td>\n",
       "      <td>...</td>\n",
       "      <td>...</td>\n",
       "    </tr>\n",
       "    <tr>\n",
       "      <th>Marquette_2021-10-21</th>\n",
       "      <td>Marquette</td>\n",
       "      <td>2021-10-21</td>\n",
       "      <td>11.00</td>\n",
       "      <td>0</td>\n",
       "      <td>0.0</td>\n",
       "    </tr>\n",
       "    <tr>\n",
       "      <th>Shawano_2021-10-21</th>\n",
       "      <td>Shawano</td>\n",
       "      <td>2021-10-21</td>\n",
       "      <td>21.57</td>\n",
       "      <td>0</td>\n",
       "      <td>0.0</td>\n",
       "    </tr>\n",
       "    <tr>\n",
       "      <th>Sheboygan_2021-10-21</th>\n",
       "      <td>Sheboygan</td>\n",
       "      <td>2021-10-21</td>\n",
       "      <td>47.86</td>\n",
       "      <td>0</td>\n",
       "      <td>0.0</td>\n",
       "    </tr>\n",
       "    <tr>\n",
       "      <th>Waushara_2021-10-21</th>\n",
       "      <td>Waushara</td>\n",
       "      <td>2021-10-21</td>\n",
       "      <td>14.71</td>\n",
       "      <td>0</td>\n",
       "      <td>0.0</td>\n",
       "    </tr>\n",
       "    <tr>\n",
       "      <th>Vilas_2021-10-21</th>\n",
       "      <td>Vilas</td>\n",
       "      <td>2021-10-21</td>\n",
       "      <td>10.57</td>\n",
       "      <td>0</td>\n",
       "      <td>0.0</td>\n",
       "    </tr>\n",
       "  </tbody>\n",
       "</table>\n",
       "<p>46008 rows × 5 columns</p>\n",
       "</div>"
      ],
      "text/plain": [
       "                         County       Date  avg_pos_cases_per_week  \\\n",
       "Buffalo_2020-01-22      Buffalo 2020-01-22                    0.00   \n",
       "Douglas_2020-01-22      Douglas 2020-01-22                    0.00   \n",
       "Iron_2020-01-22            Iron 2020-01-22                    0.00   \n",
       "Jackson_2020-01-22      Jackson 2020-01-22                    0.00   \n",
       "Langlade_2020-01-22    Langlade 2020-01-22                    0.00   \n",
       "...                         ...        ...                     ...   \n",
       "Marquette_2021-10-21  Marquette 2021-10-21                   11.00   \n",
       "Shawano_2021-10-21      Shawano 2021-10-21                   21.57   \n",
       "Sheboygan_2021-10-21  Sheboygan 2021-10-21                   47.86   \n",
       "Waushara_2021-10-21    Waushara 2021-10-21                   14.71   \n",
       "Vilas_2021-10-21          Vilas 2021-10-21                   10.57   \n",
       "\n",
       "                      new_deaths  new_deaths_in_2_weeks  \n",
       "Buffalo_2020-01-22             0                    0.0  \n",
       "Douglas_2020-01-22             0                    0.0  \n",
       "Iron_2020-01-22                0                    0.0  \n",
       "Jackson_2020-01-22             0                    0.0  \n",
       "Langlade_2020-01-22            0                    0.0  \n",
       "...                          ...                    ...  \n",
       "Marquette_2021-10-21           0                    0.0  \n",
       "Shawano_2021-10-21             0                    0.0  \n",
       "Sheboygan_2021-10-21           0                    0.0  \n",
       "Waushara_2021-10-21            0                    0.0  \n",
       "Vilas_2021-10-21               0                    0.0  \n",
       "\n",
       "[46008 rows x 5 columns]"
      ]
     },
     "execution_count": 8,
     "metadata": {},
     "output_type": "execute_result"
    }
   ],
   "source": [
    "# Merging data with deaths data frame to create column new_deaths_in_2_weeks.\n",
    "\n",
    "data=data.set_index(data['County']+\"_\"+data['Date'].astype(str))\n",
    "data['new_deaths_in_2_weeks']=deaths['new_deaths']\n",
    "data=data.dropna()\n",
    "data"
   ]
  },
  {
   "cell_type": "code",
   "execution_count": 9,
   "id": "e9815919",
   "metadata": {},
   "outputs": [],
   "source": [
    "data.to_csv('prepared_wisconsin_covid_date.csv',index=False)"
   ]
  },
  {
   "cell_type": "markdown",
   "id": "ed05ac58",
   "metadata": {},
   "source": [
    "---\n",
    "### Wisconsin's County x Day level Covid-19 data (prepared dataset)\n",
    "\n",
    "- **County**                 : County name\n",
    "- **Date**                   : Date\n",
    "- **avg_pos_cases_per_week** : Average number of positive cases per week\n",
    "- **new_deaths**             : Number of new deaths\n",
    "- **new_deaths_in_2_weeks**  : Number of new deaths after 2 weeks (Target variable for regression)"
   ]
  },
  {
   "cell_type": "code",
   "execution_count": 10,
   "id": "e27b73f9",
   "metadata": {},
   "outputs": [],
   "source": [
    "df = pd.read_csv('prepared_wisconsin_covid_date.csv')"
   ]
  },
  {
   "cell_type": "code",
   "execution_count": 11,
   "id": "5eacb72c",
   "metadata": {},
   "outputs": [
    {
     "data": {
      "text/html": [
       "<div>\n",
       "<style scoped>\n",
       "    .dataframe tbody tr th:only-of-type {\n",
       "        vertical-align: middle;\n",
       "    }\n",
       "\n",
       "    .dataframe tbody tr th {\n",
       "        vertical-align: top;\n",
       "    }\n",
       "\n",
       "    .dataframe thead th {\n",
       "        text-align: right;\n",
       "    }\n",
       "</style>\n",
       "<table border=\"1\" class=\"dataframe\">\n",
       "  <thead>\n",
       "    <tr style=\"text-align: right;\">\n",
       "      <th></th>\n",
       "      <th>County</th>\n",
       "      <th>Date</th>\n",
       "      <th>avg_pos_cases_per_week</th>\n",
       "      <th>new_deaths</th>\n",
       "      <th>new_deaths_in_2_weeks</th>\n",
       "    </tr>\n",
       "  </thead>\n",
       "  <tbody>\n",
       "    <tr>\n",
       "      <th>0</th>\n",
       "      <td>Buffalo</td>\n",
       "      <td>2020-01-22</td>\n",
       "      <td>0.00</td>\n",
       "      <td>0</td>\n",
       "      <td>0.0</td>\n",
       "    </tr>\n",
       "    <tr>\n",
       "      <th>1</th>\n",
       "      <td>Douglas</td>\n",
       "      <td>2020-01-22</td>\n",
       "      <td>0.00</td>\n",
       "      <td>0</td>\n",
       "      <td>0.0</td>\n",
       "    </tr>\n",
       "    <tr>\n",
       "      <th>2</th>\n",
       "      <td>Iron</td>\n",
       "      <td>2020-01-22</td>\n",
       "      <td>0.00</td>\n",
       "      <td>0</td>\n",
       "      <td>0.0</td>\n",
       "    </tr>\n",
       "    <tr>\n",
       "      <th>3</th>\n",
       "      <td>Jackson</td>\n",
       "      <td>2020-01-22</td>\n",
       "      <td>0.00</td>\n",
       "      <td>0</td>\n",
       "      <td>0.0</td>\n",
       "    </tr>\n",
       "    <tr>\n",
       "      <th>4</th>\n",
       "      <td>Langlade</td>\n",
       "      <td>2020-01-22</td>\n",
       "      <td>0.00</td>\n",
       "      <td>0</td>\n",
       "      <td>0.0</td>\n",
       "    </tr>\n",
       "    <tr>\n",
       "      <th>...</th>\n",
       "      <td>...</td>\n",
       "      <td>...</td>\n",
       "      <td>...</td>\n",
       "      <td>...</td>\n",
       "      <td>...</td>\n",
       "    </tr>\n",
       "    <tr>\n",
       "      <th>46003</th>\n",
       "      <td>Marquette</td>\n",
       "      <td>2021-10-21</td>\n",
       "      <td>11.00</td>\n",
       "      <td>0</td>\n",
       "      <td>0.0</td>\n",
       "    </tr>\n",
       "    <tr>\n",
       "      <th>46004</th>\n",
       "      <td>Shawano</td>\n",
       "      <td>2021-10-21</td>\n",
       "      <td>21.57</td>\n",
       "      <td>0</td>\n",
       "      <td>0.0</td>\n",
       "    </tr>\n",
       "    <tr>\n",
       "      <th>46005</th>\n",
       "      <td>Sheboygan</td>\n",
       "      <td>2021-10-21</td>\n",
       "      <td>47.86</td>\n",
       "      <td>0</td>\n",
       "      <td>0.0</td>\n",
       "    </tr>\n",
       "    <tr>\n",
       "      <th>46006</th>\n",
       "      <td>Waushara</td>\n",
       "      <td>2021-10-21</td>\n",
       "      <td>14.71</td>\n",
       "      <td>0</td>\n",
       "      <td>0.0</td>\n",
       "    </tr>\n",
       "    <tr>\n",
       "      <th>46007</th>\n",
       "      <td>Vilas</td>\n",
       "      <td>2021-10-21</td>\n",
       "      <td>10.57</td>\n",
       "      <td>0</td>\n",
       "      <td>0.0</td>\n",
       "    </tr>\n",
       "  </tbody>\n",
       "</table>\n",
       "<p>46008 rows × 5 columns</p>\n",
       "</div>"
      ],
      "text/plain": [
       "          County        Date  avg_pos_cases_per_week  new_deaths  \\\n",
       "0        Buffalo  2020-01-22                    0.00           0   \n",
       "1        Douglas  2020-01-22                    0.00           0   \n",
       "2           Iron  2020-01-22                    0.00           0   \n",
       "3        Jackson  2020-01-22                    0.00           0   \n",
       "4       Langlade  2020-01-22                    0.00           0   \n",
       "...          ...         ...                     ...         ...   \n",
       "46003  Marquette  2021-10-21                   11.00           0   \n",
       "46004    Shawano  2021-10-21                   21.57           0   \n",
       "46005  Sheboygan  2021-10-21                   47.86           0   \n",
       "46006   Waushara  2021-10-21                   14.71           0   \n",
       "46007      Vilas  2021-10-21                   10.57           0   \n",
       "\n",
       "       new_deaths_in_2_weeks  \n",
       "0                        0.0  \n",
       "1                        0.0  \n",
       "2                        0.0  \n",
       "3                        0.0  \n",
       "4                        0.0  \n",
       "...                      ...  \n",
       "46003                    0.0  \n",
       "46004                    0.0  \n",
       "46005                    0.0  \n",
       "46006                    0.0  \n",
       "46007                    0.0  \n",
       "\n",
       "[46008 rows x 5 columns]"
      ]
     },
     "execution_count": 11,
     "metadata": {},
     "output_type": "execute_result"
    }
   ],
   "source": [
    "df"
   ]
  },
  {
   "cell_type": "code",
   "execution_count": 12,
   "id": "f54aeeb3",
   "metadata": {},
   "outputs": [
    {
     "data": {
      "text/plain": [
       "avg_pos_cases_per_week    18.699550\n",
       "new_deaths                 0.161363\n",
       "new_deaths_in_2_weeks      0.165710\n",
       "dtype: float64"
      ]
     },
     "execution_count": 12,
     "metadata": {},
     "output_type": "execute_result"
    }
   ],
   "source": [
    "df.mean(numeric_only=True)"
   ]
  },
  {
   "cell_type": "markdown",
   "id": "9ac3643c",
   "metadata": {},
   "source": [
    "### Relationship between the 3 variables"
   ]
  },
  {
   "cell_type": "code",
   "execution_count": 13,
   "id": "02ae0241",
   "metadata": {},
   "outputs": [
    {
     "data": {
      "image/png": "[encoded data removed]",
      "text/plain": [
       "<Figure size 432x288 with 1 Axes>"
      ]
     },
     "metadata": {
      "needs_background": "light"
     },
     "output_type": "display_data"
    }
   ],
   "source": [
    "sns.scatterplot(data=df,x='avg_pos_cases_per_week',y='new_deaths',alpha=0.2);"
   ]
  },
  {
   "cell_type": "code",
   "execution_count": 14,
   "id": "3ae59d46",
   "metadata": {},
   "outputs": [
    {
     "data": {
      "image/png": "[encoded data removed]",
      "text/plain": [
       "<Figure size 432x288 with 1 Axes>"
      ]
     },
     "metadata": {
      "needs_background": "light"
     },
     "output_type": "display_data"
    }
   ],
   "source": [
    "sns.scatterplot(data=df,x='avg_pos_cases_per_week',y='new_deaths_in_2_weeks',alpha=0.2);"
   ]
  },
  {
   "cell_type": "code",
   "execution_count": 15,
   "id": "e7637c04",
   "metadata": {},
   "outputs": [
    {
     "data": {
      "image/png": "[encoded data removed]",
      "text/plain": [
       "<Figure size 432x288 with 1 Axes>"
      ]
     },
     "metadata": {
      "needs_background": "light"
     },
     "output_type": "display_data"
    }
   ],
   "source": [
    "sns.scatterplot(data=df,x='new_deaths',y='new_deaths_in_2_weeks',alpha=0.2);"
   ]
  },
  {
   "cell_type": "markdown",
   "id": "5099246e",
   "metadata": {},
   "source": [
    "### Linear Model"
   ]
  },
  {
   "cell_type": "code",
   "execution_count": 16,
   "id": "54d5af48",
   "metadata": {},
   "outputs": [
    {
     "data": {
      "text/plain": [
       "((36806, 2), (9202, 2), (36806, 1), (9202, 1))"
      ]
     },
     "execution_count": 16,
     "metadata": {},
     "output_type": "execute_result"
    }
   ],
   "source": [
    "# Split dataset\n",
    "\n",
    "X = df[['avg_pos_cases_per_week','new_deaths']].copy()\n",
    "y = df[['new_deaths_in_2_weeks']].copy()\n",
    "\n",
    "X_train,X_test,y_train,y_test = train_test_split(X,y,test_size=0.2,random_state=42)\n",
    "X_train.shape,X_test.shape,y_train.shape,y_test.shape"
   ]
  },
  {
   "cell_type": "code",
   "execution_count": 17,
   "id": "1ed78be0",
   "metadata": {},
   "outputs": [
    {
     "data": {
      "text/plain": [
       "0.27183973323565935"
      ]
     },
     "execution_count": 17,
     "metadata": {},
     "output_type": "execute_result"
    }
   ],
   "source": [
    "# Fit & score Model\n",
    "\n",
    "lr = LinearRegression()\n",
    "lr.fit(X_train,y_train)\n",
    "lr.score(X_test,y_test) # R2 score (default)"
   ]
  },
  {
   "cell_type": "code",
   "execution_count": 18,
   "id": "2d8a2abd",
   "metadata": {},
   "outputs": [
    {
     "name": "stdout",
     "output_type": "stream",
     "text": [
      "R2 score :  0.27183973323565935\n",
      "MAE      :  0.22723838041134795\n"
     ]
    }
   ],
   "source": [
    "# Metrics\n",
    "\n",
    "y_pred = lr.predict(X_test)\n",
    "print(\"R2 score : \",r2_score(y_test,y_pred))\n",
    "print(\"MAE      : \",mean_absolute_error(y_test,y_pred))"
   ]
  },
  {
   "cell_type": "code",
   "execution_count": 19,
   "id": "42106c1b",
   "metadata": {},
   "outputs": [
    {
     "name": "stdout",
     "output_type": "stream",
     "text": [
      "True score :  0.2422037617009706\n",
      "P-value    :  0.009900990099009901\n",
      "Garbage score distribution : \n"
     ]
    },
    {
     "data": {
      "image/png": "[encoded data removed]",
      "text/plain": [
       "<Figure size 432x288 with 1 Axes>"
      ]
     },
     "metadata": {
      "needs_background": "light"
     },
     "output_type": "display_data"
    }
   ],
   "source": [
    "# Permutation Testing\n",
    "# Reject the Null hypothesis : features and target are independent, based on the p-test score (reject if p<0.05)\n",
    "\n",
    "true_score,garbage_scores,pvalue = permutation_test_score(lr,X_test,y_test)\n",
    "print(\"True score : \",true_score)\n",
    "print(\"P-value    : \",pvalue)\n",
    "print(\"Garbage score distribution : \")\n",
    "pd.Series(garbage_scores).hist();"
   ]
  },
  {
   "cell_type": "markdown",
   "id": "129314e7",
   "metadata": {},
   "source": [
    "_(from sklearn)_\n",
    "\n",
    "The p-value, which approximates the probability that the score would be obtained by chance. This is calculated as:\n",
    "```(C + 1) / (n_permutations + 1)```\n",
    "where C is the number of permutations whose score >= the true score.<br>\n",
    "The best possible p-value is ```1/(n_permutations + 1)```, the worst is ```1.0```.\n",
    "<br>\n",
    "In this dataset the p-value 0.0099 < 0.05 hence there is significance in the original feature dataset wrt the target variable."
   ]
  },
  {
   "cell_type": "code",
   "execution_count": 20,
   "id": "fca434cd",
   "metadata": {},
   "outputs": [
    {
     "data": {
      "text/plain": [
       "(0.14398303989441671, 0.010444088847096175)"
      ]
     },
     "execution_count": 20,
     "metadata": {},
     "output_type": "execute_result"
    }
   ],
   "source": [
    "# Cross Validation\n",
    "lr = LinearRegression()\n",
    "score = cross_val_score(lr,X,y,cv=10)\n",
    "score.mean(),score.var()"
   ]
  }
 ],
 "metadata": {
  "kernelspec": {
   "display_name": "ml_env",
   "language": "python",
   "name": "ml_env"
  },
  "language_info": {
   "codemirror_mode": {
    "name": "ipython",
    "version": 3
   },
   "file_extension": ".py",
   "mimetype": "text/x-python",
   "name": "python",
   "nbconvert_exporter": "python",
   "pygments_lexer": "ipython3",
   "version": "3.7.11"
  }
 },
 "nbformat": 4,
 "nbformat_minor": 5
}
