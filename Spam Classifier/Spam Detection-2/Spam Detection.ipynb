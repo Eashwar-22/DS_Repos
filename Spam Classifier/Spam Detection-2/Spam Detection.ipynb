{
 "cells": [
  {
   "cell_type": "markdown",
   "id": "fc87af51",
   "metadata": {},
   "source": [
    "### Objective : \n",
    "> Classifer emails as spam and non-spam(ham) using Naive Bayes Classifier\n"
   ]
  },
  {
   "cell_type": "code",
   "execution_count": null,
   "id": "d4530afc",
   "metadata": {},
   "outputs": [],
   "source": []
  }
 ],
 "metadata": {
  "kernelspec": {
   "display_name": "ml_env",
   "language": "python",
   "name": "ml_env"
  },
  "language_info": {
   "codemirror_mode": {
    "name": "ipython",
    "version": 3
   },
   "file_extension": ".py",
   "mimetype": "text/x-python",
   "name": "python",
   "nbconvert_exporter": "python",
   "pygments_lexer": "ipython3",
   "version": "3.7.11"
  }
 },
 "nbformat": 4,
 "nbformat_minor": 5
}
